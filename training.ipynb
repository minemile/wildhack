{
 "cells": [
  {
   "cell_type": "code",
   "execution_count": 226,
   "id": "f36f4b04-1bc4-48e6-8391-55fee502df6a",
   "metadata": {},
   "outputs": [
    {
     "name": "stdout",
     "output_type": "stream",
     "text": [
      "The autoreload extension is already loaded. To reload it, use:\n",
      "  %reload_ext autoreload\n"
     ]
    }
   ],
   "source": [
    "%load_ext autoreload\n",
    "%autoreload 2\n",
    "\n",
    "import pandas as pd\n",
    "import numpy as np\n",
    "import string\n",
    "import jamspell\n",
    "import matplotlib.pyplot as plt\n",
    "from dataset_prepare import ToStrLower, DropDuplicates, FilterByQuantile\n",
    "from autocompleter import AutoCompleterBaseline, AutoCompleteBySuffix, AutoCompleteByInvertedIndex\n",
    "from inverted_index import InvertedIndex\n",
    "from tries import make_trie"
   ]
  },
  {
   "cell_type": "code",
   "execution_count": null,
   "id": "987f1636-bf79-4863-bfb0-aa3f87f15fff",
   "metadata": {},
   "outputs": [],
   "source": []
  },
  {
   "cell_type": "code",
   "execution_count": 227,
   "id": "ef9ffd08-53f3-4a2c-8529-3dda71e077c5",
   "metadata": {},
   "outputs": [],
   "source": [
    "data = pd.read_csv(\"data/s_hist_mil_preprocessed.csv\")"
   ]
  },
  {
   "cell_type": "markdown",
   "id": "eb025d1a-5e29-4a9a-8faf-983ff3c8d1aa",
   "metadata": {},
   "source": [
    "## Filter data"
   ]
  },
  {
   "cell_type": "code",
   "execution_count": 228,
   "id": "5fd78a6a-de2c-43db-b889-89dbd93d66ea",
   "metadata": {},
   "outputs": [
    {
     "name": "stdout",
     "output_type": "stream",
     "text": [
      "DropDuplicates: dataset size 910835 -> 870524\n"
     ]
    }
   ],
   "source": [
    "# filter out duplicates by wbuser_id and UQ\n",
    "subset_drop = [\"wbuser_id\", \"UQ\"]\n",
    "drop_duplicates_filter = DropDuplicates(subset_drop)\n",
    "df = drop_duplicates_filter.apply(data)"
   ]
  },
  {
   "cell_type": "code",
   "execution_count": 229,
   "id": "41558231-7d85-46c1-b5e2-1ae83cdc38f9",
   "metadata": {},
   "outputs": [
    {
     "name": "stdout",
     "output_type": "stream",
     "text": [
      "Lower quantile: 0. Upper quantile: 32576.849999999977\n",
      "FilterByQuantile: dataset size 870524 -> 826997\n"
     ]
    }
   ],
   "source": [
    "UPPER_QUANTILE = 0.95\n",
    "LOWER_QUANTILE = 0\n",
    "quantile_filter = FilterByQuantile('cnt', UPPER_QUANTILE)\n",
    "df = quantile_filter.apply(df)"
   ]
  },
  {
   "cell_type": "code",
   "execution_count": 230,
   "id": "04291eaa-b018-4ccd-b3dd-81a5e2d94426",
   "metadata": {},
   "outputs": [],
   "source": [
    "popularity = df.groupby(\"UQ\").size().reset_index(name='popularity')"
   ]
  },
  {
   "cell_type": "code",
   "execution_count": 231,
   "id": "43c63664-742b-43d6-a98e-8cdc8b031d1f",
   "metadata": {},
   "outputs": [],
   "source": [
    "# popularity['popularity'] = popularity['popularity'] / popularity['popularity'].max()"
   ]
  },
  {
   "cell_type": "code",
   "execution_count": 270,
   "id": "1ba4db90-cb64-4370-bba6-0f7c0ef09381",
   "metadata": {},
   "outputs": [
    {
     "data": {
      "text/html": [
       "<div>\n",
       "<style scoped>\n",
       "    .dataframe tbody tr th:only-of-type {\n",
       "        vertical-align: middle;\n",
       "    }\n",
       "\n",
       "    .dataframe tbody tr th {\n",
       "        vertical-align: top;\n",
       "    }\n",
       "\n",
       "    .dataframe thead th {\n",
       "        text-align: right;\n",
       "    }\n",
       "</style>\n",
       "<table border=\"1\" class=\"dataframe\">\n",
       "  <thead>\n",
       "    <tr style=\"text-align: right;\">\n",
       "      <th></th>\n",
       "      <th>UQ</th>\n",
       "      <th>popularity</th>\n",
       "    </tr>\n",
       "  </thead>\n",
       "  <tbody>\n",
       "    <tr>\n",
       "      <th>197892</th>\n",
       "      <td>кашемир</td>\n",
       "      <td>18</td>\n",
       "    </tr>\n",
       "    <tr>\n",
       "      <th>197893</th>\n",
       "      <td>кашемир - шоп</td>\n",
       "      <td>1</td>\n",
       "    </tr>\n",
       "    <tr>\n",
       "      <th>197894</th>\n",
       "      <td>кашемир 100</td>\n",
       "      <td>4</td>\n",
       "    </tr>\n",
       "    <tr>\n",
       "      <th>197895</th>\n",
       "      <td>кашемир 100%</td>\n",
       "      <td>2</td>\n",
       "    </tr>\n",
       "    <tr>\n",
       "      <th>197896</th>\n",
       "      <td>кашемир 80%</td>\n",
       "      <td>1</td>\n",
       "    </tr>\n",
       "    <tr>\n",
       "      <th>...</th>\n",
       "      <td>...</td>\n",
       "      <td>...</td>\n",
       "    </tr>\n",
       "    <tr>\n",
       "      <th>197974</th>\n",
       "      <td>кашемировый свитер женский</td>\n",
       "      <td>3</td>\n",
       "    </tr>\n",
       "    <tr>\n",
       "      <th>197975</th>\n",
       "      <td>кашемировый свитер мужской</td>\n",
       "      <td>1</td>\n",
       "    </tr>\n",
       "    <tr>\n",
       "      <th>197976</th>\n",
       "      <td>кашемировый свитер оверсайз</td>\n",
       "      <td>1</td>\n",
       "    </tr>\n",
       "    <tr>\n",
       "      <th>197977</th>\n",
       "      <td>кашемировый шарф</td>\n",
       "      <td>6</td>\n",
       "    </tr>\n",
       "    <tr>\n",
       "      <th>197978</th>\n",
       "      <td>кашемировый шарф мужской</td>\n",
       "      <td>1</td>\n",
       "    </tr>\n",
       "  </tbody>\n",
       "</table>\n",
       "<p>87 rows × 2 columns</p>\n",
       "</div>"
      ],
      "text/plain": [
       "                                 UQ  popularity\n",
       "197892                      кашемир          18\n",
       "197893                кашемир - шоп           1\n",
       "197894                  кашемир 100           4\n",
       "197895                 кашемир 100%           2\n",
       "197896                  кашемир 80%           1\n",
       "...                             ...         ...\n",
       "197974   кашемировый свитер женский           3\n",
       "197975   кашемировый свитер мужской           1\n",
       "197976  кашемировый свитер оверсайз           1\n",
       "197977             кашемировый шарф           6\n",
       "197978     кашемировый шарф мужской           1\n",
       "\n",
       "[87 rows x 2 columns]"
      ]
     },
     "execution_count": 270,
     "metadata": {},
     "output_type": "execute_result"
    }
   ],
   "source": [
    "popularity[popularity['UQ'].str.startswith(\"кашемир\")]"
   ]
  },
  {
   "cell_type": "markdown",
   "id": "c5ce5b75-1028-4de9-830d-78c46db47f57",
   "metadata": {},
   "source": [
    "### Create inverted index"
   ]
  },
  {
   "cell_type": "code",
   "execution_count": 279,
   "id": "55f2fa1e-3a9e-4bfd-8124-d44aa46edfed",
   "metadata": {},
   "outputs": [],
   "source": [
    "query_popularity_corpus = zip(popularity['UQ'], popularity['popularity'])"
   ]
  },
  {
   "cell_type": "code",
   "execution_count": 280,
   "id": "adde1d5f-c226-4ae8-a3ad-0485cfa2c595",
   "metadata": {},
   "outputs": [],
   "source": [
    "inverted_index = InvertedIndex()\n",
    "index = inverted_index.process_corpus(query_popularity_corpus)"
   ]
  },
  {
   "cell_type": "code",
   "execution_count": 281,
   "id": "75bd5bd1-75ba-4a19-b760-6a62b44ccecf",
   "metadata": {},
   "outputs": [],
   "source": [
    "# index['кашемир']"
   ]
  },
  {
   "cell_type": "markdown",
   "id": "c08752d5-ebf8-4ac9-ad7c-1ea91ba66d75",
   "metadata": {},
   "source": [
    "### Create tree"
   ]
  },
  {
   "cell_type": "code",
   "execution_count": 282,
   "id": "1e675c89-29ed-424d-8a73-1ac53452bee3",
   "metadata": {},
   "outputs": [
    {
     "name": "stdout",
     "output_type": "stream",
     "text": [
      "Making database for queries... It length: 511138\n"
     ]
    }
   ],
   "source": [
    "trie = make_trie(popularity['UQ'].values)"
   ]
  },
  {
   "cell_type": "markdown",
   "id": "c55ac880-3a2a-46f8-93ae-47a7a501313e",
   "metadata": {},
   "source": [
    "### Create spellchecker"
   ]
  },
  {
   "cell_type": "code",
   "execution_count": 283,
   "id": "bc9eba01-dcc8-4d88-bdc0-1d1841836dcf",
   "metadata": {},
   "outputs": [
    {
     "data": {
      "text/plain": [
       "True"
      ]
     },
     "execution_count": 283,
     "metadata": {},
     "output_type": "execute_result"
    }
   ],
   "source": [
    "corrector = jamspell.TSpellCorrector()\n",
    "corrector.LoadLangModel('data/jamspell_ru_model_subtitles.bin')"
   ]
  },
  {
   "cell_type": "markdown",
   "id": "29a8754d-efb6-4ab7-b17c-515b1410bbd4",
   "metadata": {},
   "source": [
    "### Create autocompleter"
   ]
  },
  {
   "cell_type": "code",
   "execution_count": 304,
   "id": "32244530-9ddf-444d-a41c-e773ee3adadf",
   "metadata": {},
   "outputs": [],
   "source": [
    "autocomplete_by_inverted_index = AutoCompleteByInvertedIndex(index, trie, corrector, queries_score_thr=1, first_prefix=5, max_candidates=50)"
   ]
  },
  {
   "cell_type": "code",
   "execution_count": 306,
   "id": "15a57891-817e-4da5-b79a-17500fd3d0a1",
   "metadata": {},
   "outputs": [
    {
     "name": "stdout",
     "output_type": "stream",
     "text": [
      "Original query score: 13.373493975903614\n"
     ]
    },
    {
     "data": {
      "text/plain": [
       "[Query indx: 216729. Words: компьютерное кресло. Score: 187,\n",
       " Query indx: 216742. Words: компьютерные кресла. Score: 15,\n",
       " Query indx: 216764. Words: компьютерный стол. Score: 14,\n",
       " Query indx: 216777. Words: компьютерный стул. Score: 9,\n",
       " Query indx: 216718. Words: компьютерная мышь. Score: 8,\n",
       " Query indx: 234966. Words: кресло компьютерное. Score: 396,\n",
       " Query indx: 419758. Words: стол компьютерный. Score: 48,\n",
       " Query indx: 286293. Words: мышь компьютерная. Score: 37,\n",
       " Query indx: 234793. Words: кресла компьютерные. Score: 34,\n",
       " Query indx: 421328. Words: стул компьютерный. Score: 31]"
      ]
     },
     "execution_count": 306,
     "metadata": {},
     "output_type": "execute_result"
    }
   ],
   "source": [
    "autocomplete_by_inverted_index.query(\"компьютер\", max_n=10)"
   ]
  },
  {
   "cell_type": "code",
   "execution_count": null,
   "id": "b6b7859d-b4c0-4c82-9e9c-9db0e61f7f22",
   "metadata": {},
   "outputs": [],
   "source": []
  },
  {
   "cell_type": "code",
   "execution_count": null,
   "id": "79c57ddd-d58b-4531-84cd-9f24c37b4176",
   "metadata": {},
   "outputs": [],
   "source": []
  },
  {
   "cell_type": "code",
   "execution_count": null,
   "id": "dbf6369b-6ec1-47b2-b4e6-17587ecd0274",
   "metadata": {},
   "outputs": [],
   "source": []
  },
  {
   "cell_type": "code",
   "execution_count": null,
   "id": "a54a6815-3c91-4bb8-a4b2-5b5c129eb273",
   "metadata": {},
   "outputs": [],
   "source": []
  },
  {
   "cell_type": "code",
   "execution_count": null,
   "id": "097b8f36-e004-4222-bdde-1c94222482bd",
   "metadata": {},
   "outputs": [],
   "source": []
  },
  {
   "cell_type": "code",
   "execution_count": null,
   "id": "8f346577-1d3f-4f74-98f3-6235ae980a91",
   "metadata": {},
   "outputs": [],
   "source": []
  },
  {
   "cell_type": "code",
   "execution_count": null,
   "id": "656fd9cc-1746-4232-82ff-4f64cd1814a6",
   "metadata": {},
   "outputs": [],
   "source": []
  },
  {
   "cell_type": "code",
   "execution_count": null,
   "id": "383e73a8-97ac-498b-8b0f-cc4c2943cd72",
   "metadata": {},
   "outputs": [],
   "source": []
  },
  {
   "cell_type": "code",
   "execution_count": 126,
   "id": "29a21396-d210-4118-ad58-4f229f2ae115",
   "metadata": {},
   "outputs": [
    {
     "data": {
      "text/plain": [
       "True"
      ]
     },
     "execution_count": 126,
     "metadata": {},
     "output_type": "execute_result"
    }
   ],
   "source": [
    "corrector = jamspell.TSpellCorrector()\n",
    "corrector.LoadLangModel('data/jamspell_ru_model_subtitles.bin')"
   ]
  },
  {
   "cell_type": "code",
   "execution_count": 267,
   "id": "3280c30b-69ea-4720-9876-e432d98e6f4c",
   "metadata": {},
   "outputs": [
    {
     "data": {
      "text/plain": [
       "('кашимир', 'кашемир', 'кашмир')"
      ]
     },
     "execution_count": 267,
     "metadata": {},
     "output_type": "execute_result"
    }
   ],
   "source": [
    "corrector.GetCandidates(['кашимир'], 0)"
   ]
  },
  {
   "cell_type": "code",
   "execution_count": 127,
   "id": "0b50a63f-b642-4032-82dc-d0e479749cf1",
   "metadata": {},
   "outputs": [
    {
     "data": {
      "text/plain": [
       "('пальто', 'польто', 'полько', 'мольто')"
      ]
     },
     "execution_count": 127,
     "metadata": {},
     "output_type": "execute_result"
    }
   ],
   "source": [
    "corrector.GetCandidates(['польто'], 0)"
   ]
  },
  {
   "cell_type": "code",
   "execution_count": 170,
   "id": "2fa4b649-c7c1-44e2-9e10-2a18bc6d6a18",
   "metadata": {},
   "outputs": [
    {
     "data": {
      "text/plain": [
       "'полет'"
      ]
     },
     "execution_count": 170,
     "metadata": {},
     "output_type": "execute_result"
    }
   ],
   "source": [
    "corrector.FixFragment('польт')"
   ]
  },
  {
   "cell_type": "code",
   "execution_count": 173,
   "id": "cdaf8b07-71c8-4b1e-97d6-35f44006f090",
   "metadata": {},
   "outputs": [
    {
     "data": {
      "text/plain": [
       "-1.1282475238160268"
      ]
     },
     "execution_count": 173,
     "metadata": {},
     "output_type": "execute_result"
    }
   ],
   "source": [
    "corrector.GetCandidatesWithScores(['польто'], 0)[0][1] / 50"
   ]
  },
  {
   "cell_type": "code",
   "execution_count": 165,
   "id": "6148d416-6687-430f-a160-acb3320ba7d0",
   "metadata": {},
   "outputs": [
    {
     "data": {
      "text/plain": [
       "(('ботинок', -52.02608241405659),)"
      ]
     },
     "execution_count": 165,
     "metadata": {},
     "output_type": "execute_result"
    }
   ],
   "source": [
    "corrector.GetCandidatesWithScores(['ботинок'], 0)"
   ]
  },
  {
   "cell_type": "code",
   "execution_count": 163,
   "id": "999b6407-a287-43d9-b333-2bb1a4f7bf78",
   "metadata": {},
   "outputs": [
    {
     "data": {
      "text/plain": [
       "4.039175975940258"
      ]
     },
     "execution_count": 163,
     "metadata": {},
     "output_type": "execute_result"
    }
   ],
   "source": [
    "import numpy as np\n",
    "np.log(56.779535819460015)"
   ]
  },
  {
   "cell_type": "code",
   "execution_count": null,
   "id": "4647b614-9b9d-4e74-99ea-ac610e729011",
   "metadata": {},
   "outputs": [],
   "source": [
    "np.log(-56.779535819460015)"
   ]
  }
 ],
 "metadata": {
  "kernelspec": {
   "display_name": "Python 3 (ipykernel)",
   "language": "python",
   "name": "python3"
  },
  "language_info": {
   "codemirror_mode": {
    "name": "ipython",
    "version": 3
   },
   "file_extension": ".py",
   "mimetype": "text/x-python",
   "name": "python",
   "nbconvert_exporter": "python",
   "pygments_lexer": "ipython3",
   "version": "3.7.11"
  }
 },
 "nbformat": 4,
 "nbformat_minor": 5
}
