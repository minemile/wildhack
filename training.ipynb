{
 "cells": [
  {
   "cell_type": "code",
   "execution_count": 91,
   "id": "f36f4b04-1bc4-48e6-8391-55fee502df6a",
   "metadata": {},
   "outputs": [
    {
     "name": "stdout",
     "output_type": "stream",
     "text": [
      "The autoreload extension is already loaded. To reload it, use:\n",
      "  %reload_ext autoreload\n"
     ]
    }
   ],
   "source": [
    "%load_ext autoreload\n",
    "%autoreload 2\n",
    "\n",
    "import pandas as pd\n",
    "import numpy as np\n",
    "import string\n",
    "import jamspell\n",
    "import matplotlib.pyplot as plt\n",
    "from dataset_prepare import ToStrLower, DropDuplicates, FilterByQuantile\n",
    "from autocompleter import AutoCompleterBaseline, AutoCompleteBySuffix, AutoCompleteByInvertedIndex\n",
    "from inverted_index import InvertedIndex\n",
    "from tries import make_trie"
   ]
  },
  {
   "cell_type": "code",
   "execution_count": null,
   "id": "987f1636-bf79-4863-bfb0-aa3f87f15fff",
   "metadata": {},
   "outputs": [],
   "source": []
  },
  {
   "cell_type": "code",
   "execution_count": 72,
   "id": "ef9ffd08-53f3-4a2c-8529-3dda71e077c5",
   "metadata": {},
   "outputs": [],
   "source": [
    "data = pd.read_csv(\"data/s_hist_mil_preprocessed.csv\")"
   ]
  },
  {
   "cell_type": "markdown",
   "id": "eb025d1a-5e29-4a9a-8faf-983ff3c8d1aa",
   "metadata": {},
   "source": [
    "## Filter data"
   ]
  },
  {
   "cell_type": "code",
   "execution_count": 73,
   "id": "5fd78a6a-de2c-43db-b889-89dbd93d66ea",
   "metadata": {},
   "outputs": [
    {
     "name": "stdout",
     "output_type": "stream",
     "text": [
      "DropDuplicates: dataset size 910835 -> 870524\n"
     ]
    }
   ],
   "source": [
    "# filter out duplicates by wbuser_id and UQ\n",
    "subset_drop = [\"wbuser_id\", \"UQ\"]\n",
    "drop_duplicates_filter = DropDuplicates(subset_drop)\n",
    "df = drop_duplicates_filter.apply(data)"
   ]
  },
  {
   "cell_type": "code",
   "execution_count": 74,
   "id": "41558231-7d85-46c1-b5e2-1ae83cdc38f9",
   "metadata": {},
   "outputs": [
    {
     "name": "stdout",
     "output_type": "stream",
     "text": [
      "Lower quantile: 0. Upper quantile: 32576.849999999977\n",
      "FilterByQuantile: dataset size 870524 -> 826997\n"
     ]
    }
   ],
   "source": [
    "UPPER_QUANTILE = 0.95\n",
    "LOWER_QUANTILE = 0\n",
    "quantile_filter = FilterByQuantile('cnt', UPPER_QUANTILE)\n",
    "df = quantile_filter.apply(df)"
   ]
  },
  {
   "cell_type": "code",
   "execution_count": 66,
   "id": "04291eaa-b018-4ccd-b3dd-81a5e2d94426",
   "metadata": {},
   "outputs": [],
   "source": [
    "popularity = df.groupby(\"UQ\").size().reset_index(name='popularity')"
   ]
  },
  {
   "cell_type": "code",
   "execution_count": 81,
   "id": "43c63664-742b-43d6-a98e-8cdc8b031d1f",
   "metadata": {},
   "outputs": [
    {
     "data": {
      "text/plain": [
       "array(['!', '! babylight', '! bag', ..., '😹', '🥑', '🦄'], dtype=object)"
      ]
     },
     "execution_count": 81,
     "metadata": {},
     "output_type": "execute_result"
    }
   ],
   "source": [
    "popularity['UQ'].values"
   ]
  },
  {
   "cell_type": "markdown",
   "id": "c5ce5b75-1028-4de9-830d-78c46db47f57",
   "metadata": {},
   "source": [
    "### Create inverted index"
   ]
  },
  {
   "cell_type": "code",
   "execution_count": 77,
   "id": "55f2fa1e-3a9e-4bfd-8124-d44aa46edfed",
   "metadata": {},
   "outputs": [],
   "source": [
    "query_popularity_corpus = zip(popularity['UQ'], popularity['popularity'])"
   ]
  },
  {
   "cell_type": "code",
   "execution_count": 78,
   "id": "adde1d5f-c226-4ae8-a3ad-0485cfa2c595",
   "metadata": {},
   "outputs": [],
   "source": [
    "inverted_index = InvertedIndex()\n",
    "index = inverted_index.process_corpus(query_popularity_corpus)"
   ]
  },
  {
   "cell_type": "markdown",
   "id": "c08752d5-ebf8-4ac9-ad7c-1ea91ba66d75",
   "metadata": {},
   "source": [
    "### Create tree"
   ]
  },
  {
   "cell_type": "code",
   "execution_count": 82,
   "id": "1e675c89-29ed-424d-8a73-1ac53452bee3",
   "metadata": {},
   "outputs": [
    {
     "name": "stdout",
     "output_type": "stream",
     "text": [
      "Making database for queries... It length: 511138\n"
     ]
    }
   ],
   "source": [
    "# tries \n",
    "trie = make_trie(popularity['UQ'].values)"
   ]
  },
  {
   "cell_type": "code",
   "execution_count": 89,
   "id": "263c5080-93ef-4168-a5c2-e8c35be0b8d6",
   "metadata": {},
   "outputs": [
    {
     "data": {
      "text/plain": [
       "0                                !\n",
       "1                      ! babylight\n",
       "2                            ! bag\n",
       "3                          ! flyly\n",
       "4         ! ковририк в багажник на\n",
       "                    ...           \n",
       "511133                           😆\n",
       "511134                   😊dualfix2\n",
       "511135                           😹\n",
       "511136                           🥑\n",
       "511137                           🦄\n",
       "Name: UQ, Length: 511138, dtype: object"
      ]
     },
     "execution_count": 89,
     "metadata": {},
     "output_type": "execute_result"
    }
   ],
   "source": [
    "popularity['UQ']"
   ]
  },
  {
   "cell_type": "code",
   "execution_count": null,
   "id": "835e5807-2861-49e5-98b9-b55d9f318a62",
   "metadata": {},
   "outputs": [],
   "source": [
    "\"ru_small.bin\""
   ]
  },
  {
   "cell_type": "code",
   "execution_count": 83,
   "id": "32244530-9ddf-444d-a41c-e773ee3adadf",
   "metadata": {},
   "outputs": [],
   "source": [
    "autocomplete_by_inverted_index = AutoCompleteByInvertedIndex(index, trie, first_prefix=5, max_candidates=50)"
   ]
  },
  {
   "cell_type": "code",
   "execution_count": 90,
   "id": "15a57891-817e-4da5-b79a-17500fd3d0a1",
   "metadata": {},
   "outputs": [
    {
     "data": {
      "text/plain": [
       "[Query indx: 10633. Words: baby go одежда. Score: 23,\n",
       " Query indx: 10698. Words: babygo. Score: 9,\n",
       " Query indx: 10625. Words: baby go игрушки. Score: 6,\n",
       " Query indx: 10636. Words: baby go подгузники. Score: 4,\n",
       " Query indx: 10607. Words: baby born. Score: 3,\n",
       " Query indx: 16837. Words: charon baby. Score: 51,\n",
       " Query indx: 16838. Words: charon baby pod. Score: 9,\n",
       " Query indx: 221511. Words: кормление happy baby. Score: 6,\n",
       " Query indx: 213483. Words: комбинезон baby go. Score: 6,\n",
       " Query indx: 64309. Words: smoant charon baby. Score: 6]"
      ]
     },
     "execution_count": 90,
     "metadata": {},
     "output_type": "execute_result"
    }
   ],
   "source": [
    "autocomplete_by_inverted_index.query(\"baby\", max_n=10)"
   ]
  },
  {
   "cell_type": "code",
   "execution_count": null,
   "id": "e3505397-d3ed-4526-9a12-510e19d3d528",
   "metadata": {},
   "outputs": [],
   "source": []
  },
  {
   "cell_type": "code",
   "execution_count": null,
   "id": "b6b7859d-b4c0-4c82-9e9c-9db0e61f7f22",
   "metadata": {},
   "outputs": [],
   "source": []
  },
  {
   "cell_type": "code",
   "execution_count": null,
   "id": "79c57ddd-d58b-4531-84cd-9f24c37b4176",
   "metadata": {},
   "outputs": [],
   "source": []
  },
  {
   "cell_type": "code",
   "execution_count": 93,
   "id": "29a21396-d210-4118-ad58-4f229f2ae115",
   "metadata": {},
   "outputs": [
    {
     "data": {
      "text/plain": [
       "True"
      ]
     },
     "execution_count": 93,
     "metadata": {},
     "output_type": "execute_result"
    }
   ],
   "source": [
    "corrector = jamspell.TSpellCorrector()\n",
    "corrector.LoadLangModel('data/ru_small.bin')"
   ]
  },
  {
   "cell_type": "code",
   "execution_count": 95,
   "id": "3280c30b-69ea-4720-9876-e432d98e6f4c",
   "metadata": {},
   "outputs": [
    {
     "data": {
      "text/plain": [
       "('пальто', 'польто', 'польцо', 'полито', 'дольто')"
      ]
     },
     "execution_count": 95,
     "metadata": {},
     "output_type": "execute_result"
    }
   ],
   "source": [
    "corrector.GetCandidates(['польто'], 0)"
   ]
  },
  {
   "cell_type": "code",
   "execution_count": 96,
   "id": "cdaf8b07-71c8-4b1e-97d6-35f44006f090",
   "metadata": {},
   "outputs": [
    {
     "data": {
      "text/plain": [
       "(('пальто', -55.60556954662905),\n",
       " ('польто', -56.89898564302661),\n",
       " ('польцо', -58.85446332317185),\n",
       " ('полито', -58.85446332317185),\n",
       " ('дольто', -58.85446332317185))"
      ]
     },
     "execution_count": 96,
     "metadata": {},
     "output_type": "execute_result"
    }
   ],
   "source": [
    "corrector.GetCandidatesWithScores(['польто'], 0)"
   ]
  },
  {
   "cell_type": "code",
   "execution_count": 97,
   "id": "6148d416-6687-430f-a160-acb3320ba7d0",
   "metadata": {},
   "outputs": [
    {
     "data": {
      "text/plain": [
       "(('пальто', -50.60556954662905),\n",
       " ('сальто', -71.50082423806334),\n",
       " ('альто', -71.81758222099103),\n",
       " ('пальцо', -73.85446332317184))"
      ]
     },
     "execution_count": 97,
     "metadata": {},
     "output_type": "execute_result"
    }
   ],
   "source": [
    "corrector.GetCandidatesWithScores(['пальто'], 0)"
   ]
  },
  {
   "cell_type": "code",
   "execution_count": null,
   "id": "999b6407-a287-43d9-b333-2bb1a4f7bf78",
   "metadata": {},
   "outputs": [],
   "source": []
  }
 ],
 "metadata": {
  "kernelspec": {
   "display_name": "Python 3 (ipykernel)",
   "language": "python",
   "name": "python3"
  },
  "language_info": {
   "codemirror_mode": {
    "name": "ipython",
    "version": 3
   },
   "file_extension": ".py",
   "mimetype": "text/x-python",
   "name": "python",
   "nbconvert_exporter": "python",
   "pygments_lexer": "ipython3",
   "version": "3.7.11"
  }
 },
 "nbformat": 4,
 "nbformat_minor": 5
}
