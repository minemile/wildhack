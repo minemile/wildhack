{
 "cells": [
  {
   "cell_type": "code",
   "execution_count": 7,
   "id": "f36f4b04-1bc4-48e6-8391-55fee502df6a",
   "metadata": {},
   "outputs": [
    {
     "name": "stdout",
     "output_type": "stream",
     "text": [
      "The autoreload extension is already loaded. To reload it, use:\n",
      "  %reload_ext autoreload\n"
     ]
    }
   ],
   "source": [
    "%load_ext autoreload\n",
    "%autoreload 2\n",
    "\n",
    "import pandas as pd\n",
    "import numpy as np\n",
    "import string\n",
    "import jamspell\n",
    "import matplotlib.pyplot as plt\n",
    "from dataset_prepare import ToStrLower, DropDuplicates, FilterByQuantile\n",
    "from autocompleter import AutoCompleterBaseline, AutoCompleteBySuffix, AutoCompleteByInvertedIndex\n",
    "from inverted_index import InvertedIndex\n",
    "from tries import make_trie"
   ]
  },
  {
   "cell_type": "code",
   "execution_count": 8,
   "id": "ef9ffd08-53f3-4a2c-8529-3dda71e077c5",
   "metadata": {},
   "outputs": [],
   "source": [
    "col_list = ['wbuser_id', 'UQ', 'cnt', 'lem_uq']\n",
    "df = pd.read_csv(\"data/s_hist_4mil_preprocessed.csv\", usecols=col_list)"
   ]
  },
  {
   "cell_type": "markdown",
   "id": "eb025d1a-5e29-4a9a-8faf-983ff3c8d1aa",
   "metadata": {},
   "source": [
    "## Filter data"
   ]
  },
  {
   "cell_type": "code",
   "execution_count": 9,
   "id": "5fd78a6a-de2c-43db-b889-89dbd93d66ea",
   "metadata": {},
   "outputs": [
    {
     "name": "stdout",
     "output_type": "stream",
     "text": [
      "DropDuplicates: dataset size 3975699 -> 3764740\n"
     ]
    }
   ],
   "source": [
    "# filter out duplicates by wbuser_id and UQ\n",
    "subset_drop = [\"wbuser_id\", \"UQ\"]\n",
    "drop_duplicates_filter = DropDuplicates(subset_drop)\n",
    "df = drop_duplicates_filter.apply(df)"
   ]
  },
  {
   "cell_type": "code",
   "execution_count": 10,
   "id": "41558231-7d85-46c1-b5e2-1ae83cdc38f9",
   "metadata": {},
   "outputs": [
    {
     "name": "stdout",
     "output_type": "stream",
     "text": [
      "Lower quantile: 0. Upper quantile: 30463.0\n",
      "FilterByQuantile: dataset size 3764740 -> 3576506\n"
     ]
    }
   ],
   "source": [
    "UPPER_QUANTILE = 0.95\n",
    "LOWER_QUANTILE = 0.001\n",
    "quantile_filter = FilterByQuantile('cnt', UPPER_QUANTILE)\n",
    "df = quantile_filter.apply(df)"
   ]
  },
  {
   "cell_type": "code",
   "execution_count": 11,
   "id": "04291eaa-b018-4ccd-b3dd-81a5e2d94426",
   "metadata": {},
   "outputs": [],
   "source": [
    "popularity = df.groupby(\"UQ\").size().reset_index(name='popularity')"
   ]
  },
  {
   "cell_type": "code",
   "execution_count": 6,
   "id": "43c63664-742b-43d6-a98e-8cdc8b031d1f",
   "metadata": {},
   "outputs": [],
   "source": [
    "# popularity['popularity'] = popularity['popularity'] / popularity['popularity'].max()"
   ]
  },
  {
   "cell_type": "code",
   "execution_count": 12,
   "id": "598f439b-87bc-4cba-8253-a674f97594c0",
   "metadata": {},
   "outputs": [],
   "source": [
    "uq_to_lemma_map = {}\n",
    "for idx, row in df[['UQ', \"lem_uq\"]].iterrows():\n",
    "    if row['UQ'] in uq_to_lemma_map:\n",
    "        continue\n",
    "    uq_to_lemma_map[row['UQ']] = row['lem_uq']"
   ]
  },
  {
   "cell_type": "code",
   "execution_count": 13,
   "id": "88523120-48f2-47b0-b0e0-1bf6511ea862",
   "metadata": {},
   "outputs": [
    {
     "data": {
      "text/plain": [
       "191"
      ]
     },
     "execution_count": 13,
     "metadata": {},
     "output_type": "execute_result"
    }
   ],
   "source": [
    "del df\n",
    "import gc\n",
    "gc.collect()"
   ]
  },
  {
   "cell_type": "code",
   "execution_count": 156,
   "id": "4e113cc9-fcc9-4ad3-840a-4651fdb64a54",
   "metadata": {},
   "outputs": [],
   "source": [
    "# popularity[(popularity['UQ'].str.contains(\"ноутбук\")) & (popularity['UQ'].str.contains(\"игровой\"))]"
   ]
  },
  {
   "cell_type": "markdown",
   "id": "c5ce5b75-1028-4de9-830d-78c46db47f57",
   "metadata": {},
   "source": [
    "### Create inverted index"
   ]
  },
  {
   "cell_type": "code",
   "execution_count": 15,
   "id": "55f2fa1e-3a9e-4bfd-8124-d44aa46edfed",
   "metadata": {},
   "outputs": [],
   "source": [
    "query_popularity_corpus = zip(popularity['UQ'], popularity['popularity'])"
   ]
  },
  {
   "cell_type": "code",
   "execution_count": 16,
   "id": "adde1d5f-c226-4ae8-a3ad-0485cfa2c595",
   "metadata": {},
   "outputs": [],
   "source": [
    "inverted_index = InvertedIndex(query_to_lemma_map=uq_to_lemma_map)\n",
    "index = inverted_index.process_corpus(query_popularity_corpus)"
   ]
  },
  {
   "cell_type": "markdown",
   "id": "c08752d5-ebf8-4ac9-ad7c-1ea91ba66d75",
   "metadata": {},
   "source": [
    "### Create tree"
   ]
  },
  {
   "cell_type": "code",
   "execution_count": 17,
   "id": "1e675c89-29ed-424d-8a73-1ac53452bee3",
   "metadata": {},
   "outputs": [
    {
     "name": "stdout",
     "output_type": "stream",
     "text": [
      "Making database for queries... It length: 1935747\n"
     ]
    }
   ],
   "source": [
    "trie = make_trie(popularity['UQ'].values)"
   ]
  },
  {
   "cell_type": "markdown",
   "id": "c55ac880-3a2a-46f8-93ae-47a7a501313e",
   "metadata": {},
   "source": [
    "### Create spellchecker"
   ]
  },
  {
   "cell_type": "code",
   "execution_count": 18,
   "id": "bc9eba01-dcc8-4d88-bdc0-1d1841836dcf",
   "metadata": {},
   "outputs": [
    {
     "data": {
      "text/plain": [
       "True"
      ]
     },
     "execution_count": 18,
     "metadata": {},
     "output_type": "execute_result"
    }
   ],
   "source": [
    "corrector = jamspell.TSpellCorrector()\n",
    "corrector.LoadLangModel('data/jamspell_ru_model_subtitles.bin')"
   ]
  },
  {
   "cell_type": "markdown",
   "id": "29a8754d-efb6-4ab7-b17c-515b1410bbd4",
   "metadata": {},
   "source": [
    "### Create autocompleter"
   ]
  },
  {
   "cell_type": "code",
   "execution_count": 146,
   "id": "32244530-9ddf-444d-a41c-e773ee3adadf",
   "metadata": {},
   "outputs": [],
   "source": [
    "autocomplete_by_inverted_index = AutoCompleteByInvertedIndex(index, trie, corrector, queries_score_thr=0.1, first_prefix=5, max_candidates=50)"
   ]
  },
  {
   "cell_type": "code",
   "execution_count": null,
   "id": "88f0e47f-23e1-4993-8bb8-2d02176709f5",
   "metadata": {},
   "outputs": [],
   "source": []
  },
  {
   "cell_type": "code",
   "execution_count": null,
   "id": "acc2b18a-360e-4b83-923a-4522d6844163",
   "metadata": {},
   "outputs": [],
   "source": []
  },
  {
   "cell_type": "code",
   "execution_count": null,
   "id": "1592c723-fa55-47ea-a701-220b240e57ca",
   "metadata": {},
   "outputs": [],
   "source": []
  },
  {
   "cell_type": "code",
   "execution_count": 147,
   "id": "15a57891-817e-4da5-b79a-17500fd3d0a1",
   "metadata": {},
   "outputs": [
    {
     "name": "stdout",
     "output_type": "stream",
     "text": [
      "Original query score for ноутбук: 0.1440138808559861\n",
      "Got 100 raw results\n"
     ]
    },
    {
     "data": {
      "text/plain": [
       "[Query indx: 1169880. Words: ноутбук. Score: 402. Lemma: ['ноутбук'],\n",
       " Query indx: 1170019. Words: ноутбук hp. Score: 45. Lemma: ['ноутбук', 'hp'],\n",
       " Query indx: 1170214. Words: ноутбук игровой. Score: 45. Lemma: ['ноутбук', 'игровой'],\n",
       " Query indx: 1169959. Words: ноутбук asus. Score: 28. Lemma: ['ноутбук', 'asus'],\n",
       " Query indx: 1170093. Words: ноутбук lenovo. Score: 23. Lemma: ['ноутбук', 'lenovo'],\n",
       " Query indx: 1605781. Words: сумка для ноутбука. Score: 191. Lemma: ['сумка', 'для', 'ноутбук'],\n",
       " Query indx: 1332879. Words: подставка для ноутбука. Score: 101. Lemma: ['подставка', 'для', 'ноутбук'],\n",
       " Query indx: 1595926. Words: столик для ноутбука. Score: 56. Lemma: ['столик', 'для', 'ноутбук'],\n",
       " Query indx: 1464887. Words: рюкзак для ноутбука. Score: 52. Lemma: ['рюкзак', 'для', 'ноутбук'],\n",
       " Query indx: 1826081. Words: чехол для ноутбука. Score: 49. Lemma: ['чехол', 'для', 'ноутбук']]"
      ]
     },
     "execution_count": 147,
     "metadata": {},
     "output_type": "execute_result"
    }
   ],
   "source": [
    "autocomplete_by_inverted_index.query(\"ноутбук\", max_n=10)"
   ]
  },
  {
   "cell_type": "code",
   "execution_count": 148,
   "id": "02bb84a6-8edf-46fe-a85f-cbb347120dac",
   "metadata": {},
   "outputs": [
    {
     "name": "stdout",
     "output_type": "stream",
     "text": [
      "Original query score for польто: 0.02631578947368418\n",
      "Fixed word польто -> пальто\n",
      "Got 100 raw results\n"
     ]
    },
    {
     "data": {
      "text/plain": [
       "[Query indx: 1235887. Words: пальто женское осеннее. Score: 3240. Lemma: ['пальто', 'женский', 'осенний'],\n",
       " Query indx: 1235137. Words: пальто женское. Score: 1708. Lemma: ['пальто', 'женский'],\n",
       " Query indx: 1233586. Words: пальто. Score: 693. Lemma: ['пальто'],\n",
       " Query indx: 1237344. Words: пальто мужское. Score: 446. Lemma: ['пальто', 'мужской'],\n",
       " Query indx: 1236312. Words: пальто женское шерстяное. Score: 313. Lemma: ['пальто', 'женский', 'шерстяной'],\n",
       " Query indx: 1236561. Words: пальто зимнее женское. Score: 308. Lemma: ['пальто', 'зимний', 'женский'],\n",
       " Query indx: 1235410. Words: пальто женское демисезонное. Score: 262. Lemma: ['пальто', 'женский', 'демисезонный'],\n",
       " Query indx: 1234768. Words: пальто для девочки. Score: 245. Lemma: ['пальто', 'для', 'девочка'],\n",
       " Query indx: 1236476. Words: пальто зимнее. Score: 229. Lemma: ['пальто', 'зимний'],\n",
       " Query indx: 1239028. Words: пальто халат. Score: 137. Lemma: ['пальто', 'халат']]"
      ]
     },
     "execution_count": 148,
     "metadata": {},
     "output_type": "execute_result"
    }
   ],
   "source": [
    "autocomplete_by_inverted_index.query(\"польто\", max_n=10)"
   ]
  },
  {
   "cell_type": "code",
   "execution_count": 149,
   "id": "b0124840-80fb-46b7-a211-953d2e63526e",
   "metadata": {},
   "outputs": [
    {
     "name": "stdout",
     "output_type": "stream",
     "text": [
      "Original query score for игровой: 0.11896243291592123\n",
      "Original query score for ноутбук: 0.1440138808559861\n",
      "Got 34 raw results\n"
     ]
    },
    {
     "data": {
      "text/plain": [
       "[Query indx: 705308. Words: игровой ноутбук. Score: 15. Lemma: ['игровой', 'ноутбук'],\n",
       " Query indx: 705309. Words: игровой ноутбук 540x. Score: 1. Lemma: ['игровой', 'ноутбук', '540'],\n",
       " Query indx: 705310. Words: игровой ноутбук acer. Score: 1. Lemma: ['игровой', 'ноутбук', 'acer'],\n",
       " Query indx: 705311. Words: игровой ноутбук hp. Score: 1. Lemma: ['игровой', 'ноутбук', 'hp'],\n",
       " Query indx: 705312. Words: игровой ноутбук lenovo. Score: 1. Lemma: ['игровой', 'ноутбук', 'lenovo'],\n",
       " Query indx: 705314. Words: игровой ноутбук msi. Score: 1. Lemma: ['игровой', 'ноутбук', 'msi'],\n",
       " Query indx: 1170215. Words: ноутбук игровой 1060. Score: 1. Lemma: ['ноутбук', 'игровой', '1060'],\n",
       " Query indx: 1170217. Words: ноутбук игровой gtx3050. Score: 1. Lemma: ['ноутбук', 'игровой', 'gtx3050'],\n",
       " Query indx: 1077421. Words: мощный игровой ноутбук. Score: 1. Lemma: ['мощный', 'игровой', 'ноутбук'],\n",
       " Query indx: 1170220. Words: ноутбук игровой i. Score: 1. Lemma: ['ноутбук', 'игровой', 'i']]"
      ]
     },
     "execution_count": 149,
     "metadata": {},
     "output_type": "execute_result"
    }
   ],
   "source": [
    "autocomplete_by_inverted_index.query(\"Игровой ноутбук\", max_n=10)"
   ]
  },
  {
   "cell_type": "code",
   "execution_count": 155,
   "id": "5a88fff6-7a86-4993-bec1-dfbe0af03e06",
   "metadata": {},
   "outputs": [
    {
     "name": "stdout",
     "output_type": "stream",
     "text": [
      "Original query score for польто: 0.02631578947368418\n",
      "Fixed word польто -> пальто\n",
      "Original query score for красивое: 0.10833333333333328\n",
      "Got 7 raw results\n"
     ]
    },
    {
     "data": {
      "text/plain": [
       "[Query indx: 1237121. Words: пальто красивое женское. Score: 1. Lemma: ['пальто', 'красивый', 'женский'],\n",
       " Query indx: 1237122. Words: пальто красивое необыяное. Score: 1. Lemma: ['пальто', 'красивый', 'необыяной'],\n",
       " Query indx: 886826. Words: красивое пальто плащ женское. Score: 1. Lemma: ['красивый', 'пальто', 'плащ', 'женский'],\n",
       " Query indx: 886827. Words: красивое пальто стеганое. Score: 1. Lemma: ['красивый', 'пальто', 'стёганый'],\n",
       " Query indx: 886806. Words: красивое женское пальто утепленное. Score: 1. Lemma: ['красивый', 'женский', 'пальто', 'утеплить'],\n",
       " Query indx: 1236953. Words: пальто капюшон красивое. Score: 1. Lemma: ['пальто', 'капюшон', 'красивый'],\n",
       " Query indx: 886813. Words: красивое кашемировое белое пальто. Score: 1. Lemma: ['красивый', 'кашемировый', 'белый', 'пальто']]"
      ]
     },
     "execution_count": 155,
     "metadata": {},
     "output_type": "execute_result"
    }
   ],
   "source": [
    "autocomplete_by_inverted_index.query(\"польто красивое\", max_n=10)"
   ]
  },
  {
   "cell_type": "code",
   "execution_count": 151,
   "id": "79f053b7-f529-4b5c-bfd2-ed3fc2420c47",
   "metadata": {},
   "outputs": [],
   "source": [
    "word = \"ко\"\n",
    "candidates = autocomplete_by_inverted_index.get_candidates(word)\n",
    "candidates_queries = autocomplete_by_inverted_index.get_queries_from_inverted_index(candidates)\n",
    "candidate_queries_score = autocomplete_by_inverted_index.calculate_score_for_candidates_queries(\n",
    "    candidates_queries\n",
    ")"
   ]
  },
  {
   "cell_type": "code",
   "execution_count": null,
   "id": "d28c493f-72fa-4fa3-bfde-05969d186c2d",
   "metadata": {},
   "outputs": [],
   "source": []
  },
  {
   "cell_type": "code",
   "execution_count": null,
   "id": "3b8d9bc7-bf99-4bfe-babb-0415e3338857",
   "metadata": {},
   "outputs": [],
   "source": []
  },
  {
   "cell_type": "code",
   "execution_count": 1,
   "id": "ef05ae98-3700-43ef-afb5-73dbb96415f6",
   "metadata": {},
   "outputs": [],
   "source": [
    "# sorted(candidates_queries, key=lambda x: x.popularity, reverse=False)"
   ]
  },
  {
   "cell_type": "code",
   "execution_count": null,
   "id": "776ee4d2-c852-4395-9fea-5df00540952d",
   "metadata": {},
   "outputs": [],
   "source": []
  }
 ],
 "metadata": {
  "kernelspec": {
   "display_name": "Python 3 (ipykernel)",
   "language": "python",
   "name": "python3"
  },
  "language_info": {
   "codemirror_mode": {
    "name": "ipython",
    "version": 3
   },
   "file_extension": ".py",
   "mimetype": "text/x-python",
   "name": "python",
   "nbconvert_exporter": "python",
   "pygments_lexer": "ipython3",
   "version": "3.7.11"
  }
 },
 "nbformat": 4,
 "nbformat_minor": 5
}
