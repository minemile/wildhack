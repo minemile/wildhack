{
 "cells": [
  {
   "cell_type": "code",
   "execution_count": 89,
   "id": "c436edf1-d257-4ac0-825a-6e0f3396f918",
   "metadata": {},
   "outputs": [
    {
     "name": "stdout",
     "output_type": "stream",
     "text": [
      "The autoreload extension is already loaded. To reload it, use:\n",
      "  %reload_ext autoreload\n"
     ]
    }
   ],
   "source": [
    "%load_ext autoreload\n",
    "%autoreload 2\n",
    "\n",
    "import pandas as pd\n",
    "import numpy as np\n",
    "import matplotlib.pyplot as plt\n",
    "from dataset_prepare import ToStrLower, DropDuplicates, FilterByQuantile\n",
    "from autocompleter import AutoCompleterBaseline\n",
    "from tries import Trie\n",
    "from inverted_index import InvertedIndex"
   ]
  },
  {
   "cell_type": "code",
   "execution_count": 90,
   "id": "24b056c8-0fc5-41d1-ba15-7e6d71628e43",
   "metadata": {},
   "outputs": [],
   "source": [
    "popular_queries = pd.read_csv(\"data/query_popularity.csv\")\n",
    "popular_queries['query'] = popular_queries['query'].astype(str).str.lower()"
   ]
  },
  {
   "cell_type": "code",
   "execution_count": 91,
   "id": "019ad748-65a0-4490-8443-64a226dcbe28",
   "metadata": {},
   "outputs": [],
   "source": [
    "instances = popular_queries['query'].values"
   ]
  },
  {
   "cell_type": "code",
   "execution_count": 92,
   "id": "4e765344-bfc6-466a-989c-a99c24237642",
   "metadata": {},
   "outputs": [
    {
     "data": {
      "text/html": [
       "<div>\n",
       "<style scoped>\n",
       "    .dataframe tbody tr th:only-of-type {\n",
       "        vertical-align: middle;\n",
       "    }\n",
       "\n",
       "    .dataframe tbody tr th {\n",
       "        vertical-align: top;\n",
       "    }\n",
       "\n",
       "    .dataframe thead th {\n",
       "        text-align: right;\n",
       "    }\n",
       "</style>\n",
       "<table border=\"1\" class=\"dataframe\">\n",
       "  <thead>\n",
       "    <tr style=\"text-align: right;\">\n",
       "      <th></th>\n",
       "      <th>query</th>\n",
       "      <th>query_popularity</th>\n",
       "    </tr>\n",
       "  </thead>\n",
       "  <tbody>\n",
       "    <tr>\n",
       "      <th>0</th>\n",
       "      <td>ноутбук</td>\n",
       "      <td>10</td>\n",
       "    </tr>\n",
       "    <tr>\n",
       "      <th>268</th>\n",
       "      <td>ноутбук игровой</td>\n",
       "      <td>10</td>\n",
       "    </tr>\n",
       "    <tr>\n",
       "      <th>370</th>\n",
       "      <td>hp / ноутбук hp 3c7a6ea/i3-1125g4/8gb/512gb ss...</td>\n",
       "      <td>10</td>\n",
       "    </tr>\n",
       "    <tr>\n",
       "      <th>392</th>\n",
       "      <td>ноутбук hp</td>\n",
       "      <td>10</td>\n",
       "    </tr>\n",
       "    <tr>\n",
       "      <th>545</th>\n",
       "      <td>ноутбук 14s-fq0072ur</td>\n",
       "      <td>10</td>\n",
       "    </tr>\n",
       "    <tr>\n",
       "      <th>...</th>\n",
       "      <td>...</td>\n",
       "      <td>...</td>\n",
       "    </tr>\n",
       "    <tr>\n",
       "      <th>331357</th>\n",
       "      <td>наушники к ноутбуку</td>\n",
       "      <td>1</td>\n",
       "    </tr>\n",
       "    <tr>\n",
       "      <th>332653</th>\n",
       "      <td>шторка веб-камеры для ноутбука</td>\n",
       "      <td>1</td>\n",
       "    </tr>\n",
       "    <tr>\n",
       "      <th>333133</th>\n",
       "      <td>буквы наклейки на клавиотуру ноутбук</td>\n",
       "      <td>1</td>\n",
       "    </tr>\n",
       "    <tr>\n",
       "      <th>333489</th>\n",
       "      <td>столик для ноутбука, планшет из бамбука</td>\n",
       "      <td>1</td>\n",
       "    </tr>\n",
       "    <tr>\n",
       "      <th>336929</th>\n",
       "      <td>шторка для вэбкамеры ноутбука</td>\n",
       "      <td>1</td>\n",
       "    </tr>\n",
       "  </tbody>\n",
       "</table>\n",
       "<p>307 rows × 2 columns</p>\n",
       "</div>"
      ],
      "text/plain": [
       "                                                    query  query_popularity\n",
       "0                                                 ноутбук                10\n",
       "268                                       ноутбук игровой                10\n",
       "370     hp / ноутбук hp 3c7a6ea/i3-1125g4/8gb/512gb ss...                10\n",
       "392                                            ноутбук hp                10\n",
       "545                                  ноутбук 14s-fq0072ur                10\n",
       "...                                                   ...               ...\n",
       "331357                                наушники к ноутбуку                 1\n",
       "332653                     шторка веб-камеры для ноутбука                 1\n",
       "333133               буквы наклейки на клавиотуру ноутбук                 1\n",
       "333489            столик для ноутбука, планшет из бамбука                 1\n",
       "336929                      шторка для вэбкамеры ноутбука                 1\n",
       "\n",
       "[307 rows x 2 columns]"
      ]
     },
     "execution_count": 92,
     "metadata": {},
     "output_type": "execute_result"
    }
   ],
   "source": [
    "popular_queries[popular_queries['query'].str.contains(\"ноутбук\")]"
   ]
  },
  {
   "cell_type": "code",
   "execution_count": 83,
   "id": "77528e1c-ac16-43fc-a6e2-320f9b49d4c2",
   "metadata": {},
   "outputs": [
    {
     "data": {
      "text/plain": [
       "array(['ноутбук', 'куртка женская осенняя', 'ботинки женские', ...,\n",
       "       'дешевый товар', 'макса', 'чехол для телефон'], dtype=object)"
      ]
     },
     "execution_count": 83,
     "metadata": {},
     "output_type": "execute_result"
    }
   ],
   "source": [
    "instances"
   ]
  },
  {
   "cell_type": "code",
   "execution_count": 93,
   "id": "bdbd4e72-298f-4aca-b6fc-1e9fc59ce2e9",
   "metadata": {},
   "outputs": [],
   "source": [
    "inverted_index = InvertedIndex()\n",
    "index = inverted_index.process_corpus(instances)"
   ]
  },
  {
   "cell_type": "code",
   "execution_count": 98,
   "id": "cf0aed06-f0e7-48f3-bc24-e5a6431f9e77",
   "metadata": {},
   "outputs": [
    {
     "data": {
      "text/plain": [
       "{Query indx: 0. Words: ноутбук,\n",
       " Query indx: 109347. Words: акамуляторы на ноутбук,\n",
       " Query indx: 110045. Words: стол под ноутбук,\n",
       " Query indx: 121122. Words: блок зарялки для ноутбук а hp,\n",
       " Query indx: 126190. Words: колонка на ноутбук,\n",
       " Query indx: 132994. Words: стикеры на ноутбук,\n",
       " Query indx: 145199. Words: подставка ноутбук складная,\n",
       " Query indx: 148027. Words: подставка под ноутбук с вентилятором,\n",
       " Query indx: 149698. Words: зарядка на ноутбук asus,\n",
       " Query indx: 152454. Words: блок питания на ноутбук ассер,\n",
       " Query indx: 158771. Words: под ноутбук подставка,\n",
       " Query indx: 164567. Words: наклейки на ноутбук аниме,\n",
       " Query indx: 16586. Words: детский ноутбук,\n",
       " Query indx: 171175. Words: чехол на ноутбук 14 дюймов,\n",
       " Query indx: 180516. Words: чехол ноутбук,\n",
       " Query indx: 192841. Words: чехол ноутбук 13,3,\n",
       " Query indx: 199665. Words: чехол на ноутбук 14,\n",
       " Query indx: 2016. Words: lenovo ноутбук,\n",
       " Query indx: 211866. Words: кулер для ноутбук lenovo xrleb480,\n",
       " Query indx: 2151. Words: ноутбук,\n",
       " Query indx: 2160. Words: acer / ноутбук acer extensa ex215-52-54ne/i5-1035g1/8gb/512gb ssd/15.6\\x22 fhd/uma/noos,\n",
       " Query indx: 222233. Words: детский обучающий ноутбук без дисплея, со звук.,\n",
       " Query indx: 223981. Words: пластиковая подставка под ноутбук,\n",
       " Query indx: 238628. Words: ноутбук наклейки,\n",
       " Query indx: 2491. Words: ноутбук ryzen,\n",
       " Query indx: 2545. Words: ноутбук процессор i3,\n",
       " Query indx: 263806. Words: клавиша ноутбук msi,\n",
       " Query indx: 2647. Words: ноутбук lenovo ideapad,\n",
       " Query indx: 266042. Words: средство ноутбук,\n",
       " Query indx: 268. Words: ноутбук игровой,\n",
       " Query indx: 271518. Words: тройник в ноутбук,\n",
       " Query indx: 274121. Words: наклейки на ноутбук взрослые,\n",
       " Query indx: 276064. Words: чехол на ноутбук асус,\n",
       " Query indx: 2915. Words: ноутбук hp 15s-eq1272ur,\n",
       " Query indx: 296292. Words: чехол на ноутбук 15.6,\n",
       " Query indx: 299070. Words: наклейки русские буквы на ноутбук,\n",
       " Query indx: 305865. Words: переходник микрофон ноутбук,\n",
       " Query indx: 307551. Words: шторка ноутбук,\n",
       " Query indx: 30835. Words: sun voyage ноутбук,\n",
       " Query indx: 310986. Words: переходник для наушников в ноутбук,\n",
       " Query indx: 3120. Words: ноутбук 17 ca2033ur,\n",
       " Query indx: 3154. Words: ноутбук 1650,\n",
       " Query indx: 3160. Words: ноутбук apple,\n",
       " Query indx: 323691. Words: наклейка на ноутбук,\n",
       " Query indx: 333133. Words: буквы наклейки на клавиотуру ноутбук,\n",
       " Query indx: 370. Words: hp / ноутбук hp 3c7a6ea/i3-1125g4/8gb/512gb ssd/15.6\\x22fhd/uma/win10,\n",
       " Query indx: 392. Words: ноутбук hp,\n",
       " Query indx: 40086. Words: наклейки на ноутбук,\n",
       " Query indx: 4294. Words: ноутбук dell vostro,\n",
       " Query indx: 52319. Words: блок питания ноутбук apple - magsafe 2 85 вт,\n",
       " Query indx: 5278. Words: ноутбук леново,\n",
       " Query indx: 545. Words: ноутбук 14s-fq0072ur,\n",
       " Query indx: 5462. Words: ноутбук acer,\n",
       " Query indx: 5639. Words: ноутбук lenovo v15,\n",
       " Query indx: 61577. Words: чехол на ноутбук honor,\n",
       " Query indx: 6339. Words: ноутбук hp,\n",
       " Query indx: 652. Words: игровой ноутбук,\n",
       " Query indx: 6861. Words: ноутбук x509ma-br330t/intel pentium silver n5030/4gb/256гб ssd/15.6\\x22/uma/win10, asus,\n",
       " Query indx: 6872. Words: ноутбук 15s-eq1273ur,\n",
       " Query indx: 74936. Words: рюкзак ноутбук 13,\n",
       " Query indx: 77151. Words: рюкзак женский под ноутбук,\n",
       " Query indx: 7897. Words: ноутбук acer aspire 3,\n",
       " Query indx: 7927. Words: ноутбук hp 15s-eq1320ur/athlon 3150u/4gb/128gb ssd/15.6\\x22 fhd/uma/win10 hp,\n",
       " Query indx: 82604. Words: чехол ноутбук 15.6,\n",
       " Query indx: 83122. Words: сумка ноутбук 17.3,\n",
       " Query indx: 8389. Words: ноутбук lenovo,\n",
       " Query indx: 8432. Words: подставка под ноутбук,\n",
       " Query indx: 8437. Words: hp / ноутбук 2x0m5ea/amd athlon gold 3150u/4 гб/256 гб/15.6\\x22/uma/win10,\n",
       " Query indx: 8702. Words: ноутбук msi,\n",
       " Query indx: 89088. Words: столик под ноутбук,\n",
       " Query indx: 8974. Words: ноутбук acer extensa,\n",
       " Query indx: 91122. Words: сумка ноутбук 13,\n",
       " Query indx: 91298. Words: ноутбук деревянный,\n",
       " Query indx: 92715. Words: батарея на ноутбук aa-pb9nc6b,\n",
       " Query indx: 980. Words: ноутбук asus}"
      ]
     },
     "execution_count": 98,
     "metadata": {},
     "output_type": "execute_result"
    }
   ],
   "source": [
    "index['ноутбук']"
   ]
  },
  {
   "cell_type": "code",
   "execution_count": null,
   "id": "86138c97-c81b-43a8-a1f8-0e961988d728",
   "metadata": {},
   "outputs": [],
   "source": []
  },
  {
   "cell_type": "code",
   "execution_count": null,
   "id": "b8d3d9b4-2eef-4d16-b26f-89ba5e7598a6",
   "metadata": {},
   "outputs": [],
   "source": []
  },
  {
   "cell_type": "code",
   "execution_count": null,
   "id": "a64c2582-a632-4406-a0b7-761f134443ae",
   "metadata": {},
   "outputs": [],
   "source": []
  },
  {
   "cell_type": "code",
   "execution_count": 51,
   "id": "8b735d7c-4e2d-4ec3-9a9f-76ea5be43920",
   "metadata": {},
   "outputs": [],
   "source": [
    "trie = Trie()\n",
    "for indx, row in popular_queries.iterrows():\n",
    "    words = row['query']\n",
    "    popularity = row['query_popularity']\n",
    "    trie.insert(words, popularity)"
   ]
  },
  {
   "cell_type": "code",
   "execution_count": 99,
   "id": "da83b3a0-0f6f-4bad-992d-409644f904ed",
   "metadata": {},
   "outputs": [
    {
     "data": {
      "text/plain": [
       "[('ноутбук', 1, 10),\n",
       " ('ноутбук игровой', 1, 10),\n",
       " ('ноутбук hp', 1, 10),\n",
       " ('ноутбук hp 15s-eq1272ur', 1, 10),\n",
       " ('ноутбук asus', 1, 10),\n",
       " ('ноутбук apple', 1, 10),\n",
       " ('ноутбук acer', 1, 10),\n",
       " ('ноутбук acer aspire 3', 1, 10),\n",
       " ('ноутбук acer extensa', 1, 10),\n",
       " ('ноутбук процессор i3', 1, 10),\n",
       " ('ноутбук lenovo', 1, 10),\n",
       " ('ноутбук lenovo ideapad', 1, 10),\n",
       " ('ноутбук 17 ca2033ur', 1, 10),\n",
       " ('ноутбук 1650', 1, 10),\n",
       " ('ноутбук леново', 1, 10),\n",
       " ('ноутбук msi', 1, 10),\n",
       " ('ноутбуки', 1, 10),\n",
       " ('ноутбуки msi', 1, 10),\n",
       " ('ноутбуки эпл', 1, 10),\n",
       " ('ноутбук наклейки', 1, 3)]"
      ]
     },
     "execution_count": 99,
     "metadata": {},
     "output_type": "execute_result"
    }
   ],
   "source": [
    "trie.query(\"ноут\")"
   ]
  },
  {
   "cell_type": "code",
   "execution_count": 58,
   "id": "f7626052-4e60-4306-b8f9-4721ae4a49d9",
   "metadata": {},
   "outputs": [
    {
     "data": {
      "text/plain": [
       "[('пресс', 1, 10),\n",
       " ('пресс для отжима', 1, 10),\n",
       " ('пресс для чеснока', 1, 10),\n",
       " ('пресс для сока', 1, 10),\n",
       " ('пресс для винограда', 1, 10),\n",
       " ('пресс для чая', 1, 9),\n",
       " ('пресс для установки фурнитуры', 1, 9),\n",
       " ('пресс френч чайник', 1, 9),\n",
       " ('преступление и наказание', 1, 9),\n",
       " ('пресс для установки кнопок', 1, 8),\n",
       " ('пресс для бургеров', 1, 8),\n",
       " ('пресс для картофеля', 1, 8),\n",
       " ('пресс для котлет', 1, 8),\n",
       " ('пресс для зубной пасты', 1, 8),\n",
       " ('пресс для люверсов', 1, 8),\n",
       " ('пресс чайник френч', 1, 7),\n",
       " ('прес для чеснока', 1, 6),\n",
       " ('пресс для равиоли', 1, 5),\n",
       " ('престиж удобрение', 1, 5),\n",
       " ('пресиоза стразы', 1, 5),\n",
       " ('пресс для чеснока металлический', 1, 4),\n",
       " ('пресс для катлет', 1, 4),\n",
       " ('пресс для теста для лепки', 1, 4),\n",
       " ('пресс для гамбургера', 1, 4),\n",
       " ('пресс форма для котлет', 1, 4),\n",
       " ('пресс форма для печенья', 1, 4),\n",
       " ('прессованные маски', 1, 3),\n",
       " ('пресс для чеснока из нержавейки', 1, 2),\n",
       " ('пресс для чеснока, орехокол', 1, 2),\n",
       " ('пресс для сыра', 1, 2),\n",
       " ('пресс чайник заварочный', 1, 2),\n",
       " ('престиж кс', 1, 2),\n",
       " ('пресс для зубной пасты белого цвета', 1, 1),\n",
       " ('прес для зубной пасты', 1, 1),\n",
       " ('прес дозатор', 1, 1)]"
      ]
     },
     "execution_count": 58,
     "metadata": {},
     "output_type": "execute_result"
    }
   ],
   "source": [
    "trie.query(\"прес\")"
   ]
  },
  {
   "cell_type": "code",
   "execution_count": null,
   "id": "e412af59-e65a-4a49-8f50-6d5c3710ad7c",
   "metadata": {},
   "outputs": [],
   "source": []
  }
 ],
 "metadata": {
  "kernelspec": {
   "display_name": "Python 3 (ipykernel)",
   "language": "python",
   "name": "python3"
  },
  "language_info": {
   "codemirror_mode": {
    "name": "ipython",
    "version": 3
   },
   "file_extension": ".py",
   "mimetype": "text/x-python",
   "name": "python",
   "nbconvert_exporter": "python",
   "pygments_lexer": "ipython3",
   "version": "3.7.11"
  }
 },
 "nbformat": 4,
 "nbformat_minor": 5
}
