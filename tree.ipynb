{
 "cells": [
  {
   "cell_type": "code",
   "execution_count": 124,
   "id": "c436edf1-d257-4ac0-825a-6e0f3396f918",
   "metadata": {},
   "outputs": [
    {
     "name": "stdout",
     "output_type": "stream",
     "text": [
      "The autoreload extension is already loaded. To reload it, use:\n",
      "  %reload_ext autoreload\n"
     ]
    }
   ],
   "source": [
    "%load_ext autoreload\n",
    "%autoreload 2\n",
    "\n",
    "import pandas as pd\n",
    "import numpy as np\n",
    "import matplotlib.pyplot as plt\n",
    "from dataset_prepare import ToStrLower, DropDuplicates, FilterByQuantile\n",
    "from autocompleter import AutoCompleterBaseline, AutoCompleteByInvertedIndex\n",
    "from tries import Trie\n",
    "from inverted_index import InvertedIndex"
   ]
  },
  {
   "cell_type": "code",
   "execution_count": 108,
   "id": "24b056c8-0fc5-41d1-ba15-7e6d71628e43",
   "metadata": {},
   "outputs": [],
   "source": [
    "popular_queries = pd.read_csv(\"data/query_popularity.csv\")\n",
    "popular_queries['query'] = popular_queries['query'].astype(str).str.lower()"
   ]
  },
  {
   "cell_type": "code",
   "execution_count": 110,
   "id": "d03a740c-0973-4187-a5be-5d3ff05629af",
   "metadata": {},
   "outputs": [],
   "source": []
  },
  {
   "cell_type": "code",
   "execution_count": 91,
   "id": "019ad748-65a0-4490-8443-64a226dcbe28",
   "metadata": {},
   "outputs": [],
   "source": [
    "instances = popular_queries['query'].values"
   ]
  },
  {
   "cell_type": "code",
   "execution_count": 105,
   "id": "4e765344-bfc6-466a-989c-a99c24237642",
   "metadata": {},
   "outputs": [
    {
     "data": {
      "text/html": [
       "<div>\n",
       "<style scoped>\n",
       "    .dataframe tbody tr th:only-of-type {\n",
       "        vertical-align: middle;\n",
       "    }\n",
       "\n",
       "    .dataframe tbody tr th {\n",
       "        vertical-align: top;\n",
       "    }\n",
       "\n",
       "    .dataframe thead th {\n",
       "        text-align: right;\n",
       "    }\n",
       "</style>\n",
       "<table border=\"1\" class=\"dataframe\">\n",
       "  <thead>\n",
       "    <tr style=\"text-align: right;\">\n",
       "      <th></th>\n",
       "      <th>query</th>\n",
       "      <th>query_popularity</th>\n",
       "    </tr>\n",
       "  </thead>\n",
       "  <tbody>\n",
       "    <tr>\n",
       "      <th>268</th>\n",
       "      <td>ноутбук игровой</td>\n",
       "      <td>10</td>\n",
       "    </tr>\n",
       "    <tr>\n",
       "      <th>652</th>\n",
       "      <td>игровой ноутбук</td>\n",
       "      <td>10</td>\n",
       "    </tr>\n",
       "    <tr>\n",
       "      <th>694</th>\n",
       "      <td>игровой ноут</td>\n",
       "      <td>10</td>\n",
       "    </tr>\n",
       "  </tbody>\n",
       "</table>\n",
       "</div>"
      ],
      "text/plain": [
       "               query  query_popularity\n",
       "268  ноутбук игровой                10\n",
       "652  игровой ноутбук                10\n",
       "694     игровой ноут                10"
      ]
     },
     "execution_count": 105,
     "metadata": {},
     "output_type": "execute_result"
    }
   ],
   "source": [
    "mask_notebook = popular_queries['query'].str.contains(\"ноут\")\n",
    "mask_igrovoi = popular_queries['query'].str.contains(\"игро\")\n",
    "mask = mask_notebook & mask_igrovoi\n",
    "popular_queries[mask]"
   ]
  },
  {
   "cell_type": "code",
   "execution_count": 134,
   "id": "4675066d-42d5-45c7-9f90-5b184fe33328",
   "metadata": {},
   "outputs": [
    {
     "data": {
      "text/plain": [
       "385"
      ]
     },
     "execution_count": 134,
     "metadata": {},
     "output_type": "execute_result"
    }
   ],
   "source": [
    "mask_igrovoi.sum()"
   ]
  },
  {
   "cell_type": "code",
   "execution_count": 133,
   "id": "77528e1c-ac16-43fc-a6e2-320f9b49d4c2",
   "metadata": {},
   "outputs": [
    {
     "data": {
      "text/plain": [
       "411"
      ]
     },
     "execution_count": 133,
     "metadata": {},
     "output_type": "execute_result"
    }
   ],
   "source": [
    "mask_notebook.sum()"
   ]
  },
  {
   "cell_type": "code",
   "execution_count": 128,
   "id": "ee9d6947-7628-4894-a6ed-3a3cee5a9f1c",
   "metadata": {},
   "outputs": [],
   "source": [
    "query_popularity_corpus = zip(popular_queries['query'], popular_queries['query_popularity'])"
   ]
  },
  {
   "cell_type": "code",
   "execution_count": 129,
   "id": "bdbd4e72-298f-4aca-b6fc-1e9fc59ce2e9",
   "metadata": {},
   "outputs": [],
   "source": [
    "inverted_index = InvertedIndex()\n",
    "index = inverted_index.process_corpus(query_popularity_corpus)"
   ]
  },
  {
   "cell_type": "markdown",
   "id": "b6332417-a07f-4f1e-9f85-ca6618221b29",
   "metadata": {},
   "source": [
    "### Trie"
   ]
  },
  {
   "cell_type": "code",
   "execution_count": 51,
   "id": "8b735d7c-4e2d-4ec3-9a9f-76ea5be43920",
   "metadata": {},
   "outputs": [],
   "source": [
    "trie = Trie()\n",
    "for indx, row in popular_queries.iterrows():\n",
    "    words = row['query']\n",
    "    popularity = row['query_popularity']\n",
    "    trie.insert(words, popularity)"
   ]
  },
  {
   "cell_type": "code",
   "execution_count": 127,
   "id": "f7626052-4e60-4306-b8f9-4721ae4a49d9",
   "metadata": {},
   "outputs": [
    {
     "data": {
      "text/plain": [
       "[('игровой ноут', 1, 10),\n",
       " ('игровой ноутбук', 1, 10),\n",
       " ('игровой компьютер', 1, 10),\n",
       " ('игровой компьютерный стол', 1, 10),\n",
       " ('игровой комплекс для кошек', 1, 10)]"
      ]
     },
     "execution_count": 127,
     "metadata": {},
     "output_type": "execute_result"
    }
   ],
   "source": [
    "trie.query(\"игров\")[:5]"
   ]
  },
  {
   "cell_type": "code",
   "execution_count": 143,
   "id": "e412af59-e65a-4a49-8f50-6d5c3710ad7c",
   "metadata": {},
   "outputs": [
    {
     "ename": "AttributeError",
     "evalue": "'AutoCompleteByInvertedIndex' object has no attribute 'trie'",
     "output_type": "error",
     "traceback": [
      "\u001b[0;31m---------------------------------------------------------------------------\u001b[0m",
      "\u001b[0;31mAttributeError\u001b[0m                            Traceback (most recent call last)",
      "\u001b[0;32m/var/folders/_b/wr14ty5d1q96p67h9t1csd8w0000gn/T/ipykernel_38345/3245488470.py\u001b[0m in \u001b[0;36m<module>\u001b[0;34m\u001b[0m\n\u001b[1;32m      1\u001b[0m \u001b[0mautocomplete_by_inverted_index\u001b[0m \u001b[0;34m=\u001b[0m \u001b[0mAutoCompleteByInvertedIndex\u001b[0m\u001b[0;34m(\u001b[0m\u001b[0mindex\u001b[0m\u001b[0;34m)\u001b[0m\u001b[0;34m\u001b[0m\u001b[0;34m\u001b[0m\u001b[0m\n\u001b[0;32m----> 2\u001b[0;31m \u001b[0mresult\u001b[0m \u001b[0;34m=\u001b[0m \u001b[0mautocomplete_by_inverted_index\u001b[0m\u001b[0;34m.\u001b[0m\u001b[0mquery\u001b[0m\u001b[0;34m(\u001b[0m\u001b[0;34m\"ноутбук\"\u001b[0m\u001b[0;34m)\u001b[0m\u001b[0;34m\u001b[0m\u001b[0;34m\u001b[0m\u001b[0m\n\u001b[0m",
      "\u001b[0;32m~/development/wildhack/autocompleter.py\u001b[0m in \u001b[0;36mquery\u001b[0;34m(self, query)\u001b[0m\n\u001b[1;32m     62\u001b[0m         \u001b[0mcandidates\u001b[0m \u001b[0;34m=\u001b[0m \u001b[0;34m[\u001b[0m\u001b[0;34m]\u001b[0m\u001b[0;34m\u001b[0m\u001b[0;34m\u001b[0m\u001b[0m\n\u001b[1;32m     63\u001b[0m         \u001b[0;32mfor\u001b[0m \u001b[0mword\u001b[0m \u001b[0;32min\u001b[0m \u001b[0msplitted_query\u001b[0m\u001b[0;34m:\u001b[0m\u001b[0;34m\u001b[0m\u001b[0;34m\u001b[0m\u001b[0m\n\u001b[0;32m---> 64\u001b[0;31m             \u001b[0mcandidates\u001b[0m \u001b[0;34m=\u001b[0m \u001b[0mself\u001b[0m\u001b[0;34m.\u001b[0m\u001b[0mtrie\u001b[0m\u001b[0;34m.\u001b[0m\u001b[0mquery\u001b[0m\u001b[0;34m(\u001b[0m\u001b[0mword\u001b[0m\u001b[0;34m)\u001b[0m\u001b[0;34m[\u001b[0m\u001b[0;34m:\u001b[0m\u001b[0;36m5\u001b[0m\u001b[0;34m]\u001b[0m\u001b[0;34m\u001b[0m\u001b[0;34m\u001b[0m\u001b[0m\n\u001b[0m\u001b[1;32m     65\u001b[0m             \u001b[0mcandidates_queries\u001b[0m \u001b[0;34m=\u001b[0m \u001b[0mself\u001b[0m\u001b[0;34m.\u001b[0m\u001b[0mget_queries_from_inverted_index\u001b[0m\u001b[0;34m(\u001b[0m\u001b[0mcandidates\u001b[0m\u001b[0;34m)\u001b[0m\u001b[0;34m\u001b[0m\u001b[0;34m\u001b[0m\u001b[0m\n\u001b[1;32m     66\u001b[0m             \u001b[0mcandidates\u001b[0m\u001b[0;34m.\u001b[0m\u001b[0mappend\u001b[0m\u001b[0;34m(\u001b[0m\u001b[0mcandidates_queries\u001b[0m\u001b[0;34m)\u001b[0m\u001b[0;34m\u001b[0m\u001b[0;34m\u001b[0m\u001b[0m\n",
      "\u001b[0;31mAttributeError\u001b[0m: 'AutoCompleteByInvertedIndex' object has no attribute 'trie'"
     ]
    }
   ],
   "source": [
    "autocomplete_by_inverted_index = AutoCompleteByInvertedIndex(index)\n",
    "autocomplete_by_inverted_index.make_trie(\n",
    "result = autocomplete_by_inverted_index.query(\"ноутбук\")"
   ]
  },
  {
   "cell_type": "code",
   "execution_count": null,
   "id": "1ad8a4a6-184a-4a22-b1d7-febf1cbd6163",
   "metadata": {},
   "outputs": [],
   "source": []
  },
  {
   "cell_type": "code",
   "execution_count": null,
   "id": "83f747a3-9c8f-4def-827f-c7f601271733",
   "metadata": {},
   "outputs": [],
   "source": []
  },
  {
   "cell_type": "code",
   "execution_count": null,
   "id": "5008c3d5-b846-473a-ab24-a2c36b17aa90",
   "metadata": {},
   "outputs": [],
   "source": []
  },
  {
   "cell_type": "code",
   "execution_count": null,
   "id": "32a85ae1-ff8d-48a1-a55f-6c32eab8d72e",
   "metadata": {},
   "outputs": [],
   "source": []
  },
  {
   "cell_type": "code",
   "execution_count": 141,
   "id": "c66c026c-9d6e-4fe7-b991-b0705372590f",
   "metadata": {},
   "outputs": [],
   "source": [
    "a = [set([1, 2, 3]), set([1, 2, 7])]"
   ]
  },
  {
   "cell_type": "code",
   "execution_count": 142,
   "id": "6dc7c374-73ee-4c86-b78f-7b1e124da65c",
   "metadata": {},
   "outputs": [
    {
     "data": {
      "text/plain": [
       "[{1, 2, 3}, {1, 2, 7}]"
      ]
     },
     "execution_count": 142,
     "metadata": {},
     "output_type": "execute_result"
    }
   ],
   "source": [
    "result = None\n",
    "for i in a:\n",
    "    if result is None:\n",
    "        result = i\n",
    "    "
   ]
  },
  {
   "cell_type": "code",
   "execution_count": null,
   "id": "e92c6002-7ad5-4588-8338-f5ffc588f4e1",
   "metadata": {},
   "outputs": [],
   "source": []
  }
 ],
 "metadata": {
  "kernelspec": {
   "display_name": "Python 3 (ipykernel)",
   "language": "python",
   "name": "python3"
  },
  "language_info": {
   "codemirror_mode": {
    "name": "ipython",
    "version": 3
   },
   "file_extension": ".py",
   "mimetype": "text/x-python",
   "name": "python",
   "nbconvert_exporter": "python",
   "pygments_lexer": "ipython3",
   "version": "3.7.11"
  }
 },
 "nbformat": 4,
 "nbformat_minor": 5
}
