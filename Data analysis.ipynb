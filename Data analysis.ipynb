{
 "cells": [
  {
   "cell_type": "code",
   "execution_count": 15,
   "id": "b4e72c3d-9c2c-4fc6-8711-f5c1ee593747",
   "metadata": {},
   "outputs": [
    {
     "name": "stdout",
     "output_type": "stream",
     "text": [
      "The autoreload extension is already loaded. To reload it, use:\n",
      "  %reload_ext autoreload\n"
     ]
    }
   ],
   "source": [
    "%load_ext autoreload\n",
    "%autoreload 2\n",
    "\n",
    "import pandas as pd\n",
    "import numpy as np\n",
    "import matplotlib.pyplot as plt\n",
    "from dataset_prepare import ToStrLower, DropDuplicates, FilterByQuantile"
   ]
  },
  {
   "cell_type": "code",
   "execution_count": 16,
   "id": "0c6294db-662e-4d4c-b948-9682b4378ff0",
   "metadata": {},
   "outputs": [],
   "source": [
    "popular_queries = pd.read_csv(\"data/query_popularity.csv\")\n",
    "popular_queries['query'] = popular_queries['query'].astype(str)"
   ]
  },
  {
   "cell_type": "code",
   "execution_count": 17,
   "id": "996c3ca6-bf5f-4761-9e82-01267a574613",
   "metadata": {},
   "outputs": [],
   "source": [
    "columns = ['wbuser_id', 'UQ', 'cnt', 'locale', 'weekday', 'time']\n",
    "search_history = pd.read_csv(\"data/search_subset.csv\")[columns]"
   ]
  },
  {
   "cell_type": "markdown",
   "id": "88ab08d8-afac-4980-8690-721a30901ab3",
   "metadata": {},
   "source": [
    "# Filter data"
   ]
  },
  {
   "cell_type": "code",
   "execution_count": 18,
   "id": "644297ad-d01c-42cb-b42f-0839d468b71d",
   "metadata": {},
   "outputs": [],
   "source": [
    "CNT_UPPER_QUANTILE = 0.9"
   ]
  },
  {
   "cell_type": "code",
   "execution_count": 19,
   "id": "91f06ea4-6400-4d4e-a2bb-b3dc1a3b09ae",
   "metadata": {},
   "outputs": [],
   "source": [
    "# to lower UQ\n",
    "to_str_lower_filter = ToStrLower(column=\"UQ\")\n",
    "df = to_str_lower_filter.apply(search_history)"
   ]
  },
  {
   "cell_type": "code",
   "execution_count": 20,
   "id": "9c87dc3e-3493-4130-ba02-2ae9425bae8b",
   "metadata": {},
   "outputs": [
    {
     "name": "stdout",
     "output_type": "stream",
     "text": [
      "DropDuplicates: dataset size 499999 -> 450085\n"
     ]
    }
   ],
   "source": [
    "# filter out duplicates by wbuser_id \n",
    "subset_drop = [\"wbuser_id\", \"UQ\"]\n",
    "drop_duplicates_filter = DropDuplicates(subset_drop)\n",
    "df = drop_duplicates_filter.apply(df)"
   ]
  },
  {
   "cell_type": "code",
   "execution_count": 22,
   "id": "0fd72189-4d84-4256-8fdc-de0f2f339d9c",
   "metadata": {},
   "outputs": [
    {
     "name": "stdout",
     "output_type": "stream",
     "text": [
      "Lower quantile: 0. Upper quantile: 33128.79999999999\n",
      "FilterByQuantile: dataset size 450085 -> 427580\n"
     ]
    }
   ],
   "source": [
    "UPPER_QUANTILE = 0.95\n",
    "LOWER_QUANTILE = 0\n",
    "quantile_filter = FilterByQuantile('cnt', UPPER_QUANTILE)\n",
    "df = quantile_filter.apply(df)"
   ]
  }
 ],
 "metadata": {
  "kernelspec": {
   "display_name": "Python 3 (ipykernel)",
   "language": "python",
   "name": "python3"
  },
  "language_info": {
   "codemirror_mode": {
    "name": "ipython",
    "version": 3
   },
   "file_extension": ".py",
   "mimetype": "text/x-python",
   "name": "python",
   "nbconvert_exporter": "python",
   "pygments_lexer": "ipython3",
   "version": "3.7.11"
  }
 },
 "nbformat": 4,
 "nbformat_minor": 5
}
