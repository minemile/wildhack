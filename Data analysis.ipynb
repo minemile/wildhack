{
 "cells": [
  {
   "cell_type": "code",
   "execution_count": 60,
   "id": "b4e72c3d-9c2c-4fc6-8711-f5c1ee593747",
   "metadata": {},
   "outputs": [
    {
     "name": "stdout",
     "output_type": "stream",
     "text": [
      "The autoreload extension is already loaded. To reload it, use:\n",
      "  %reload_ext autoreload\n"
     ]
    }
   ],
   "source": [
    "%load_ext autoreload\n",
    "%autoreload 2\n",
    "\n",
    "import pandas as pd\n",
    "import numpy as np\n",
    "import matplotlib.pyplot as plt\n",
    "from dataset_prepare import ToStrLower, DropDuplicates, FilterByQuantile\n",
    "from autocompleter import AutoCompleterBaseline, AutoCompleteBySuffix"
   ]
  },
  {
   "cell_type": "code",
   "execution_count": 64,
   "id": "0c6294db-662e-4d4c-b948-9682b4378ff0",
   "metadata": {},
   "outputs": [],
   "source": [
    "popular_queries = pd.read_csv(\"data/query_popularity.csv\")\n",
    "popular_queries['query'] = popular_queries['query'].astype(str).str.lower()"
   ]
  },
  {
   "cell_type": "code",
   "execution_count": 4,
   "id": "996c3ca6-bf5f-4761-9e82-01267a574613",
   "metadata": {},
   "outputs": [],
   "source": [
    "columns = ['wbuser_id', 'UQ', 'cnt', 'locale', 'weekday', 'time']\n",
    "search_history = pd.read_csv(\"data/search_subset.csv\")[columns]"
   ]
  },
  {
   "cell_type": "markdown",
   "id": "88ab08d8-afac-4980-8690-721a30901ab3",
   "metadata": {},
   "source": [
    "# Filter data"
   ]
  },
  {
   "cell_type": "code",
   "execution_count": 5,
   "id": "644297ad-d01c-42cb-b42f-0839d468b71d",
   "metadata": {},
   "outputs": [],
   "source": [
    "CNT_UPPER_QUANTILE = 0.9"
   ]
  },
  {
   "cell_type": "code",
   "execution_count": 6,
   "id": "91f06ea4-6400-4d4e-a2bb-b3dc1a3b09ae",
   "metadata": {},
   "outputs": [],
   "source": [
    "# to lower UQ\n",
    "to_str_lower_filter = ToStrLower(column=\"UQ\")\n",
    "df = to_str_lower_filter.apply(search_history)"
   ]
  },
  {
   "cell_type": "code",
   "execution_count": 7,
   "id": "9c87dc3e-3493-4130-ba02-2ae9425bae8b",
   "metadata": {},
   "outputs": [
    {
     "name": "stdout",
     "output_type": "stream",
     "text": [
      "DropDuplicates: dataset size 499999 -> 450085\n"
     ]
    }
   ],
   "source": [
    "# filter out duplicates by wbuser_id \n",
    "subset_drop = [\"wbuser_id\", \"UQ\"]\n",
    "drop_duplicates_filter = DropDuplicates(subset_drop)\n",
    "df = drop_duplicates_filter.apply(df)"
   ]
  },
  {
   "cell_type": "code",
   "execution_count": 8,
   "id": "0fd72189-4d84-4256-8fdc-de0f2f339d9c",
   "metadata": {},
   "outputs": [
    {
     "name": "stdout",
     "output_type": "stream",
     "text": [
      "Lower quantile: 0. Upper quantile: 33128.79999999999\n",
      "FilterByQuantile: dataset size 450085 -> 427580\n"
     ]
    }
   ],
   "source": [
    "UPPER_QUANTILE = 0.95\n",
    "LOWER_QUANTILE = 0\n",
    "quantile_filter = FilterByQuantile('cnt', UPPER_QUANTILE)\n",
    "df = quantile_filter.apply(df)"
   ]
  },
  {
   "cell_type": "code",
   "execution_count": null,
   "id": "2add672f-5979-4bf6-bb9a-ac1b5f138100",
   "metadata": {},
   "outputs": [],
   "source": []
  },
  {
   "cell_type": "markdown",
   "id": "3b25ac99-c40b-4e37-b047-9705a28cf4c7",
   "metadata": {},
   "source": [
    "### Autocompleters"
   ]
  },
  {
   "cell_type": "markdown",
   "id": "fa9e7f82-39f9-4285-83ce-d6bd6ce46937",
   "metadata": {},
   "source": [
    "#### Baseline"
   ]
  },
  {
   "cell_type": "code",
   "execution_count": 70,
   "id": "f9127114-9774-42f6-b9d1-eebe24e189b9",
   "metadata": {},
   "outputs": [
    {
     "data": {
      "text/html": [
       "<div>\n",
       "<style scoped>\n",
       "    .dataframe tbody tr th:only-of-type {\n",
       "        vertical-align: middle;\n",
       "    }\n",
       "\n",
       "    .dataframe tbody tr th {\n",
       "        vertical-align: top;\n",
       "    }\n",
       "\n",
       "    .dataframe thead th {\n",
       "        text-align: right;\n",
       "    }\n",
       "</style>\n",
       "<table border=\"1\" class=\"dataframe\">\n",
       "  <thead>\n",
       "    <tr style=\"text-align: right;\">\n",
       "      <th></th>\n",
       "      <th>query</th>\n",
       "      <th>query_popularity</th>\n",
       "    </tr>\n",
       "  </thead>\n",
       "  <tbody>\n",
       "    <tr>\n",
       "      <th>652</th>\n",
       "      <td>игровой ноутбук</td>\n",
       "      <td>10</td>\n",
       "    </tr>\n",
       "    <tr>\n",
       "      <th>694</th>\n",
       "      <td>игровой ноут</td>\n",
       "      <td>10</td>\n",
       "    </tr>\n",
       "    <tr>\n",
       "      <th>5030</th>\n",
       "      <td>игровой компьютер</td>\n",
       "      <td>10</td>\n",
       "    </tr>\n",
       "    <tr>\n",
       "      <th>6583</th>\n",
       "      <td>игровой руль</td>\n",
       "      <td>10</td>\n",
       "    </tr>\n",
       "    <tr>\n",
       "      <th>8203</th>\n",
       "      <td>игровой комплекс для кошек</td>\n",
       "      <td>10</td>\n",
       "    </tr>\n",
       "    <tr>\n",
       "      <th>15001</th>\n",
       "      <td>игровой компьютерный стол</td>\n",
       "      <td>10</td>\n",
       "    </tr>\n",
       "    <tr>\n",
       "      <th>23432</th>\n",
       "      <td>игровой комплекс для кошки</td>\n",
       "      <td>10</td>\n",
       "    </tr>\n",
       "    <tr>\n",
       "      <th>30519</th>\n",
       "      <td>игровой столик</td>\n",
       "      <td>10</td>\n",
       "    </tr>\n",
       "    <tr>\n",
       "      <th>33981</th>\n",
       "      <td>игровой центр батут</td>\n",
       "      <td>9</td>\n",
       "    </tr>\n",
       "    <tr>\n",
       "      <th>38301</th>\n",
       "      <td>игровой набор кухня детский</td>\n",
       "      <td>9</td>\n",
       "    </tr>\n",
       "  </tbody>\n",
       "</table>\n",
       "</div>"
      ],
      "text/plain": [
       "                             query  query_popularity\n",
       "652                игровой ноутбук                10\n",
       "694                   игровой ноут                10\n",
       "5030             игровой компьютер                10\n",
       "6583                  игровой руль                10\n",
       "8203    игровой комплекс для кошек                10\n",
       "15001    игровой компьютерный стол                10\n",
       "23432   игровой комплекс для кошки                10\n",
       "30519               игровой столик                10\n",
       "33981          игровой центр батут                 9\n",
       "38301  игровой набор кухня детский                 9"
      ]
     },
     "execution_count": 70,
     "metadata": {},
     "output_type": "execute_result"
    }
   ],
   "source": [
    "# baseline\n",
    "autocompleter_baseline = AutoCompleterBaseline(query_database=popular_queries, max_n=10)\n",
    "autocompleter_baseline.predict(\"игровой\")"
   ]
  },
  {
   "cell_type": "code",
   "execution_count": 73,
   "id": "0add9567-96e1-47de-a3cf-73b94b57e21a",
   "metadata": {},
   "outputs": [
    {
     "name": "stdout",
     "output_type": "stream",
     "text": [
      "Found for word: игровой 169 instances\n",
      "Found for word: ноут 411 instances\n"
     ]
    },
    {
     "data": {
      "text/html": [
       "<div>\n",
       "<style scoped>\n",
       "    .dataframe tbody tr th:only-of-type {\n",
       "        vertical-align: middle;\n",
       "    }\n",
       "\n",
       "    .dataframe tbody tr th {\n",
       "        vertical-align: top;\n",
       "    }\n",
       "\n",
       "    .dataframe thead th {\n",
       "        text-align: right;\n",
       "    }\n",
       "</style>\n",
       "<table border=\"1\" class=\"dataframe\">\n",
       "  <thead>\n",
       "    <tr style=\"text-align: right;\">\n",
       "      <th></th>\n",
       "      <th>query</th>\n",
       "      <th>query_popularity</th>\n",
       "    </tr>\n",
       "  </thead>\n",
       "  <tbody>\n",
       "    <tr>\n",
       "      <th>268</th>\n",
       "      <td>ноутбук игровой</td>\n",
       "      <td>10</td>\n",
       "    </tr>\n",
       "    <tr>\n",
       "      <th>652</th>\n",
       "      <td>игровой ноутбук</td>\n",
       "      <td>10</td>\n",
       "    </tr>\n",
       "    <tr>\n",
       "      <th>694</th>\n",
       "      <td>игровой ноут</td>\n",
       "      <td>10</td>\n",
       "    </tr>\n",
       "  </tbody>\n",
       "</table>\n",
       "</div>"
      ],
      "text/plain": [
       "               query  query_popularity\n",
       "268  ноутбук игровой                10\n",
       "652  игровой ноутбук                10\n",
       "694     игровой ноут                10"
      ]
     },
     "execution_count": 73,
     "metadata": {},
     "output_type": "execute_result"
    }
   ],
   "source": [
    "autocompleter_baseline.predict(\"игровой ноут\")"
   ]
  },
  {
   "cell_type": "markdown",
   "id": "9131c528-ed32-4bee-bca5-99f6605c4511",
   "metadata": {},
   "source": [
    "#### Tries"
   ]
  },
  {
   "cell_type": "code",
   "execution_count": 74,
   "id": "c2e559fc-4b85-44fc-a775-93cfb95ca7ed",
   "metadata": {},
   "outputs": [
    {
     "name": "stdout",
     "output_type": "stream",
     "text": [
      "Making database for queries... It length: 336988\n"
     ]
    }
   ],
   "source": [
    "autocompleter_tries = AutoCompleteBySuffix()\n",
    "autocompleter_tries.make_trie(popular_queries)"
   ]
  },
  {
   "cell_type": "code",
   "execution_count": 76,
   "id": "964cb9e7-0d41-41cb-8b67-296911251fa0",
   "metadata": {},
   "outputs": [
    {
     "data": {
      "text/plain": [
       "[('игровой ноут', 1, 10),\n",
       " ('игровой ноутбук', 1, 10),\n",
       " ('игровой компьютер', 1, 10),\n",
       " ('игровой компьютерный стол', 1, 10),\n",
       " ('игровой комплекс для кошек', 1, 10),\n",
       " ('игровой комплекс для кошки', 1, 10),\n",
       " ('игровой руль', 1, 10),\n",
       " ('игровой столик', 1, 10),\n",
       " ('игровой набор', 2, 9),\n",
       " ('игровой набор кухня детский', 1, 9)]"
      ]
     },
     "execution_count": 76,
     "metadata": {},
     "output_type": "execute_result"
    }
   ],
   "source": [
    "autocompleter_tries.query(\"игровой\")[:10]"
   ]
  },
  {
   "cell_type": "code",
   "execution_count": 77,
   "id": "3e3b49e9-0fcf-4d81-9932-ab327683e997",
   "metadata": {},
   "outputs": [
    {
     "data": {
      "text/plain": [
       "[('игровая приставка', 1, 10),\n",
       " ('игровая палатка', 1, 10),\n",
       " ('игровая мышь', 2, 10),\n",
       " ('игровая клавиатура', 2, 10),\n",
       " ('игровая приставка sega', 1, 9),\n",
       " ('игровая консоль', 1, 9),\n",
       " ('игровая гарнитура', 1, 9),\n",
       " ('игровая гарнитура rush ambition', 1, 9),\n",
       " ('игровая пристака', 1, 8),\n",
       " ('игровая мышь zet', 1, 8)]"
      ]
     },
     "execution_count": 77,
     "metadata": {},
     "output_type": "execute_result"
    }
   ],
   "source": [
    "autocompleter_tries.query(\"игровая\")[:10]"
   ]
  },
  {
   "cell_type": "code",
   "execution_count": null,
   "id": "a2c131c5-a0f2-4ef4-a7c3-6a08245e83aa",
   "metadata": {},
   "outputs": [],
   "source": []
  }
 ],
 "metadata": {
  "kernelspec": {
   "display_name": "Python 3 (ipykernel)",
   "language": "python",
   "name": "python3"
  },
  "language_info": {
   "codemirror_mode": {
    "name": "ipython",
    "version": 3
   },
   "file_extension": ".py",
   "mimetype": "text/x-python",
   "name": "python",
   "nbconvert_exporter": "python",
   "pygments_lexer": "ipython3",
   "version": "3.7.11"
  }
 },
 "nbformat": 4,
 "nbformat_minor": 5
}
