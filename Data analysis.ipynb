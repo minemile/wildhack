{
 "cells": [
  {
   "cell_type": "code",
   "execution_count": 1,
   "id": "b4e72c3d-9c2c-4fc6-8711-f5c1ee593747",
   "metadata": {},
   "outputs": [],
   "source": [
    "%load_ext autoreload\n",
    "%autoreload 2\n",
    "\n",
    "import pandas as pd\n",
    "import numpy as np\n",
    "import matplotlib.pyplot as plt\n",
    "from dataset_prepare import ToStrLower, DropDuplicates, FilterByQuantile\n",
    "from autocompleter import AutoCompleter"
   ]
  },
  {
   "cell_type": "code",
   "execution_count": 2,
   "id": "0c6294db-662e-4d4c-b948-9682b4378ff0",
   "metadata": {},
   "outputs": [],
   "source": [
    "popular_queries = pd.read_csv(\"data/query_popularity.csv\")\n",
    "popular_queries['query'] = popular_queries['query'].astype(str)"
   ]
  },
  {
   "cell_type": "code",
   "execution_count": 4,
   "id": "996c3ca6-bf5f-4761-9e82-01267a574613",
   "metadata": {},
   "outputs": [],
   "source": [
    "columns = ['wbuser_id', 'UQ', 'cnt', 'locale', 'weekday', 'time']\n",
    "search_history = pd.read_csv(\"data/search_subset.csv\")[columns]"
   ]
  },
  {
   "cell_type": "markdown",
   "id": "88ab08d8-afac-4980-8690-721a30901ab3",
   "metadata": {},
   "source": [
    "# Filter data"
   ]
  },
  {
   "cell_type": "code",
   "execution_count": 5,
   "id": "644297ad-d01c-42cb-b42f-0839d468b71d",
   "metadata": {},
   "outputs": [],
   "source": [
    "CNT_UPPER_QUANTILE = 0.9"
   ]
  },
  {
   "cell_type": "code",
   "execution_count": 6,
   "id": "91f06ea4-6400-4d4e-a2bb-b3dc1a3b09ae",
   "metadata": {},
   "outputs": [],
   "source": [
    "# to lower UQ\n",
    "to_str_lower_filter = ToStrLower(column=\"UQ\")\n",
    "df = to_str_lower_filter.apply(search_history)"
   ]
  },
  {
   "cell_type": "code",
   "execution_count": 7,
   "id": "9c87dc3e-3493-4130-ba02-2ae9425bae8b",
   "metadata": {},
   "outputs": [
    {
     "name": "stdout",
     "output_type": "stream",
     "text": [
      "DropDuplicates: dataset size 499999 -> 450085\n"
     ]
    }
   ],
   "source": [
    "# filter out duplicates by wbuser_id \n",
    "subset_drop = [\"wbuser_id\", \"UQ\"]\n",
    "drop_duplicates_filter = DropDuplicates(subset_drop)\n",
    "df = drop_duplicates_filter.apply(df)"
   ]
  },
  {
   "cell_type": "code",
   "execution_count": 8,
   "id": "0fd72189-4d84-4256-8fdc-de0f2f339d9c",
   "metadata": {},
   "outputs": [
    {
     "name": "stdout",
     "output_type": "stream",
     "text": [
      "Lower quantile: 0. Upper quantile: 33128.79999999999\n",
      "FilterByQuantile: dataset size 450085 -> 427580\n"
     ]
    }
   ],
   "source": [
    "UPPER_QUANTILE = 0.95\n",
    "LOWER_QUANTILE = 0\n",
    "quantile_filter = FilterByQuantile('cnt', UPPER_QUANTILE)\n",
    "df = quantile_filter.apply(df)"
   ]
  },
  {
   "cell_type": "code",
   "execution_count": 35,
   "id": "0f78e031-0f17-40b4-ba36-9e4c0ddb4276",
   "metadata": {},
   "outputs": [
    {
     "data": {
      "text/plain": [
       "7.0"
      ]
     },
     "execution_count": 35,
     "metadata": {},
     "output_type": "execute_result"
    }
   ],
   "source": [
    "df.groupby(\"UQ\")['cnt'].median()['игровой ноутбук']"
   ]
  },
  {
   "cell_type": "code",
   "execution_count": null,
   "id": "094f3ceb-195b-42f9-bba2-7a4ee474e265",
   "metadata": {},
   "outputs": [],
   "source": []
  },
  {
   "cell_type": "code",
   "execution_count": 9,
   "id": "f4e00ade-38d7-45df-9d8b-8288c751acd9",
   "metadata": {},
   "outputs": [],
   "source": [
    "for_notebook_result = popular_queries[popular_queries['query'].str.contains(\"ноутбук\")]"
   ]
  },
  {
   "cell_type": "code",
   "execution_count": 10,
   "id": "4d63668f-f669-4bda-9dcc-909081e9e10e",
   "metadata": {},
   "outputs": [],
   "source": [
    "for_igrov_result = popular_queries[popular_queries['query'].str.contains(\"игров\")]"
   ]
  },
  {
   "cell_type": "code",
   "execution_count": 11,
   "id": "f0c18737-8244-44c2-9ebd-ec69e9c4faba",
   "metadata": {},
   "outputs": [
    {
     "data": {
      "text/html": [
       "<div>\n",
       "<style scoped>\n",
       "    .dataframe tbody tr th:only-of-type {\n",
       "        vertical-align: middle;\n",
       "    }\n",
       "\n",
       "    .dataframe tbody tr th {\n",
       "        vertical-align: top;\n",
       "    }\n",
       "\n",
       "    .dataframe thead th {\n",
       "        text-align: right;\n",
       "    }\n",
       "</style>\n",
       "<table border=\"1\" class=\"dataframe\">\n",
       "  <thead>\n",
       "    <tr style=\"text-align: right;\">\n",
       "      <th></th>\n",
       "      <th>query</th>\n",
       "      <th>query_popularity</th>\n",
       "    </tr>\n",
       "  </thead>\n",
       "  <tbody>\n",
       "    <tr>\n",
       "      <th>268</th>\n",
       "      <td>ноутбук игровой</td>\n",
       "      <td>10</td>\n",
       "    </tr>\n",
       "    <tr>\n",
       "      <th>652</th>\n",
       "      <td>игровой ноутбук</td>\n",
       "      <td>10</td>\n",
       "    </tr>\n",
       "  </tbody>\n",
       "</table>\n",
       "</div>"
      ],
      "text/plain": [
       "               query  query_popularity\n",
       "268  ноутбук игровой                10\n",
       "652  игровой ноутбук                10"
      ]
     },
     "execution_count": 11,
     "metadata": {},
     "output_type": "execute_result"
    }
   ],
   "source": [
    "popular_queries[popular_queries['query'].str.contains(\"ноутбук\") & popular_queries['query'].str.contains(\"игров\")]"
   ]
  },
  {
   "cell_type": "code",
   "execution_count": 15,
   "id": "67e25f58-8cef-4290-a796-686b6f23ca24",
   "metadata": {},
   "outputs": [
    {
     "data": {
      "text/html": [
       "<div>\n",
       "<style scoped>\n",
       "    .dataframe tbody tr th:only-of-type {\n",
       "        vertical-align: middle;\n",
       "    }\n",
       "\n",
       "    .dataframe tbody tr th {\n",
       "        vertical-align: top;\n",
       "    }\n",
       "\n",
       "    .dataframe thead th {\n",
       "        text-align: right;\n",
       "    }\n",
       "</style>\n",
       "<table border=\"1\" class=\"dataframe\">\n",
       "  <thead>\n",
       "    <tr style=\"text-align: right;\">\n",
       "      <th></th>\n",
       "      <th>query</th>\n",
       "      <th>query_popularity</th>\n",
       "    </tr>\n",
       "  </thead>\n",
       "  <tbody>\n",
       "    <tr>\n",
       "      <th>0</th>\n",
       "      <td>ноутбук</td>\n",
       "      <td>10</td>\n",
       "    </tr>\n",
       "    <tr>\n",
       "      <th>268</th>\n",
       "      <td>ноутбук игровой</td>\n",
       "      <td>10</td>\n",
       "    </tr>\n",
       "    <tr>\n",
       "      <th>392</th>\n",
       "      <td>ноутбук hp</td>\n",
       "      <td>10</td>\n",
       "    </tr>\n",
       "    <tr>\n",
       "      <th>652</th>\n",
       "      <td>игровой ноутбук</td>\n",
       "      <td>10</td>\n",
       "    </tr>\n",
       "    <tr>\n",
       "      <th>980</th>\n",
       "      <td>ноутбук asus</td>\n",
       "      <td>10</td>\n",
       "    </tr>\n",
       "    <tr>\n",
       "      <th>...</th>\n",
       "      <td>...</td>\n",
       "      <td>...</td>\n",
       "    </tr>\n",
       "    <tr>\n",
       "      <th>331357</th>\n",
       "      <td>наушники к ноутбуку</td>\n",
       "      <td>1</td>\n",
       "    </tr>\n",
       "    <tr>\n",
       "      <th>332653</th>\n",
       "      <td>шторка веб-камеры для ноутбука</td>\n",
       "      <td>1</td>\n",
       "    </tr>\n",
       "    <tr>\n",
       "      <th>333133</th>\n",
       "      <td>буквы наклейки на клавиотуру ноутбук</td>\n",
       "      <td>1</td>\n",
       "    </tr>\n",
       "    <tr>\n",
       "      <th>333489</th>\n",
       "      <td>Столик для ноутбука, планшет из бамбука</td>\n",
       "      <td>1</td>\n",
       "    </tr>\n",
       "    <tr>\n",
       "      <th>336929</th>\n",
       "      <td>шторка для вэбкамеры ноутбука</td>\n",
       "      <td>1</td>\n",
       "    </tr>\n",
       "  </tbody>\n",
       "</table>\n",
       "<p>292 rows × 2 columns</p>\n",
       "</div>"
      ],
      "text/plain": [
       "                                          query  query_popularity\n",
       "0                                       ноутбук                10\n",
       "268                             ноутбук игровой                10\n",
       "392                                  ноутбук hp                10\n",
       "652                             игровой ноутбук                10\n",
       "980                                ноутбук asus                10\n",
       "...                                         ...               ...\n",
       "331357                      наушники к ноутбуку                 1\n",
       "332653           шторка веб-камеры для ноутбука                 1\n",
       "333133     буквы наклейки на клавиотуру ноутбук                 1\n",
       "333489  Столик для ноутбука, планшет из бамбука                 1\n",
       "336929            шторка для вэбкамеры ноутбука                 1\n",
       "\n",
       "[292 rows x 2 columns]"
      ]
     },
     "execution_count": 15,
     "metadata": {},
     "output_type": "execute_result"
    }
   ],
   "source": [
    "popular_queries[popular_queries['query'].str.contains(\"ноутбук\")]"
   ]
  },
  {
   "cell_type": "code",
   "execution_count": null,
   "id": "f9127114-9774-42f6-b9d1-eebe24e189b9",
   "metadata": {},
   "outputs": [],
   "source": [
    "autocompleter = AutoCompleteraBaseline(query_database=popular_queries, max_n=10)"
   ]
  },
  {
   "cell_type": "code",
   "execution_count": 49,
   "id": "3037bebe-e6d1-46b3-a94a-d1590f1f73c8",
   "metadata": {},
   "outputs": [
    {
     "data": {
      "text/html": [
       "<div>\n",
       "<style scoped>\n",
       "    .dataframe tbody tr th:only-of-type {\n",
       "        vertical-align: middle;\n",
       "    }\n",
       "\n",
       "    .dataframe tbody tr th {\n",
       "        vertical-align: top;\n",
       "    }\n",
       "\n",
       "    .dataframe thead th {\n",
       "        text-align: right;\n",
       "    }\n",
       "</style>\n",
       "<table border=\"1\" class=\"dataframe\">\n",
       "  <thead>\n",
       "    <tr style=\"text-align: right;\">\n",
       "      <th></th>\n",
       "      <th>query</th>\n",
       "      <th>query_popularity</th>\n",
       "    </tr>\n",
       "  </thead>\n",
       "  <tbody>\n",
       "    <tr>\n",
       "      <th>20443</th>\n",
       "      <td>игра престолов книга</td>\n",
       "      <td>10</td>\n",
       "    </tr>\n",
       "    <tr>\n",
       "      <th>26521</th>\n",
       "      <td>игралочка</td>\n",
       "      <td>10</td>\n",
       "    </tr>\n",
       "    <tr>\n",
       "      <th>27471</th>\n",
       "      <td>игра почемучка</td>\n",
       "      <td>10</td>\n",
       "    </tr>\n",
       "    <tr>\n",
       "      <th>32672</th>\n",
       "      <td>игра шакал настольная</td>\n",
       "      <td>10</td>\n",
       "    </tr>\n",
       "    <tr>\n",
       "      <th>33932</th>\n",
       "      <td>игра мемо</td>\n",
       "      <td>9</td>\n",
       "    </tr>\n",
       "    <tr>\n",
       "      <th>...</th>\n",
       "      <td>...</td>\n",
       "      <td>...</td>\n",
       "    </tr>\n",
       "    <tr>\n",
       "      <th>318983</th>\n",
       "      <td>игра бродилки</td>\n",
       "      <td>1</td>\n",
       "    </tr>\n",
       "    <tr>\n",
       "      <th>325302</th>\n",
       "      <td>игра головоломка</td>\n",
       "      <td>1</td>\n",
       "    </tr>\n",
       "    <tr>\n",
       "      <th>326869</th>\n",
       "      <td>игра развивающая 2-3 года</td>\n",
       "      <td>1</td>\n",
       "    </tr>\n",
       "    <tr>\n",
       "      <th>334632</th>\n",
       "      <td>игральный кубик</td>\n",
       "      <td>1</td>\n",
       "    </tr>\n",
       "    <tr>\n",
       "      <th>335259</th>\n",
       "      <td>игральные карты 54шт</td>\n",
       "      <td>1</td>\n",
       "    </tr>\n",
       "  </tbody>\n",
       "</table>\n",
       "<p>221 rows × 2 columns</p>\n",
       "</div>"
      ],
      "text/plain": [
       "                            query  query_popularity\n",
       "20443        игра престолов книга                10\n",
       "26521                   игралочка                10\n",
       "27471              игра почемучка                10\n",
       "32672       игра шакал настольная                10\n",
       "33932                   игра мемо                 9\n",
       "...                           ...               ...\n",
       "318983              игра бродилки                 1\n",
       "325302           игра головоломка                 1\n",
       "326869  игра развивающая 2-3 года                 1\n",
       "334632            игральный кубик                 1\n",
       "335259       игральные карты 54шт                 1\n",
       "\n",
       "[221 rows x 2 columns]"
      ]
     },
     "execution_count": 49,
     "metadata": {},
     "output_type": "execute_result"
    }
   ],
   "source": [
    "popular_queries[popular_queries['query'].str.startswith(\"игра\")]"
   ]
  },
  {
   "cell_type": "code",
   "execution_count": 51,
   "id": "5b999e03-f8be-41ef-b31a-f06149352bd9",
   "metadata": {},
   "outputs": [
    {
     "data": {
      "text/html": [
       "<div>\n",
       "<style scoped>\n",
       "    .dataframe tbody tr th:only-of-type {\n",
       "        vertical-align: middle;\n",
       "    }\n",
       "\n",
       "    .dataframe tbody tr th {\n",
       "        vertical-align: top;\n",
       "    }\n",
       "\n",
       "    .dataframe thead th {\n",
       "        text-align: right;\n",
       "    }\n",
       "</style>\n",
       "<table border=\"1\" class=\"dataframe\">\n",
       "  <thead>\n",
       "    <tr style=\"text-align: right;\">\n",
       "      <th></th>\n",
       "      <th>query</th>\n",
       "      <th>query_popularity</th>\n",
       "    </tr>\n",
       "  </thead>\n",
       "  <tbody>\n",
       "    <tr>\n",
       "      <th>20443</th>\n",
       "      <td>игра престолов книга</td>\n",
       "      <td>10</td>\n",
       "    </tr>\n",
       "    <tr>\n",
       "      <th>26521</th>\n",
       "      <td>игралочка</td>\n",
       "      <td>10</td>\n",
       "    </tr>\n",
       "    <tr>\n",
       "      <th>27471</th>\n",
       "      <td>игра почемучка</td>\n",
       "      <td>10</td>\n",
       "    </tr>\n",
       "    <tr>\n",
       "      <th>32672</th>\n",
       "      <td>игра шакал настольная</td>\n",
       "      <td>10</td>\n",
       "    </tr>\n",
       "    <tr>\n",
       "      <th>33932</th>\n",
       "      <td>игра мемо</td>\n",
       "      <td>9</td>\n",
       "    </tr>\n",
       "    <tr>\n",
       "      <th>37300</th>\n",
       "      <td>игра настольная омский завод</td>\n",
       "      <td>9</td>\n",
       "    </tr>\n",
       "    <tr>\n",
       "      <th>45671</th>\n",
       "      <td>игра монополия</td>\n",
       "      <td>9</td>\n",
       "    </tr>\n",
       "    <tr>\n",
       "      <th>46148</th>\n",
       "      <td>игра</td>\n",
       "      <td>9</td>\n",
       "    </tr>\n",
       "    <tr>\n",
       "      <th>55347</th>\n",
       "      <td>игра викторина</td>\n",
       "      <td>9</td>\n",
       "    </tr>\n",
       "    <tr>\n",
       "      <th>56269</th>\n",
       "      <td>игра зайца</td>\n",
       "      <td>9</td>\n",
       "    </tr>\n",
       "  </tbody>\n",
       "</table>\n",
       "</div>"
      ],
      "text/plain": [
       "                              query  query_popularity\n",
       "20443          игра престолов книга                10\n",
       "26521                     игралочка                10\n",
       "27471                игра почемучка                10\n",
       "32672         игра шакал настольная                10\n",
       "33932                     игра мемо                 9\n",
       "37300  игра настольная омский завод                 9\n",
       "45671                игра монополия                 9\n",
       "46148                          игра                 9\n",
       "55347                игра викторина                 9\n",
       "56269                    игра зайца                 9"
      ]
     },
     "execution_count": 51,
     "metadata": {},
     "output_type": "execute_result"
    }
   ],
   "source": [
    "# by suffix\n",
    "result = autocompleter.predict(\"игра\")\n",
    "result"
   ]
  },
  {
   "cell_type": "code",
   "execution_count": 44,
   "id": "a96ddcda-c316-4c50-b21d-8e115f3b1fc7",
   "metadata": {},
   "outputs": [
    {
     "name": "stdout",
     "output_type": "stream",
     "text": [
      "Found for word: крем 3537 instances\n",
      "Found for word: для 78173 instances\n"
     ]
    },
    {
     "data": {
      "text/html": [
       "<div>\n",
       "<style scoped>\n",
       "    .dataframe tbody tr th:only-of-type {\n",
       "        vertical-align: middle;\n",
       "    }\n",
       "\n",
       "    .dataframe tbody tr th {\n",
       "        vertical-align: top;\n",
       "    }\n",
       "\n",
       "    .dataframe thead th {\n",
       "        text-align: right;\n",
       "    }\n",
       "</style>\n",
       "<table border=\"1\" class=\"dataframe\">\n",
       "  <thead>\n",
       "    <tr style=\"text-align: right;\">\n",
       "      <th></th>\n",
       "      <th>query</th>\n",
       "      <th>query_popularity</th>\n",
       "    </tr>\n",
       "  </thead>\n",
       "  <tbody>\n",
       "    <tr>\n",
       "      <th>538</th>\n",
       "      <td>крем для лица</td>\n",
       "      <td>10</td>\n",
       "    </tr>\n",
       "    <tr>\n",
       "      <th>1771</th>\n",
       "      <td>крем для рук</td>\n",
       "      <td>10</td>\n",
       "    </tr>\n",
       "    <tr>\n",
       "      <th>3166</th>\n",
       "      <td>крем для лица антивозрастной</td>\n",
       "      <td>10</td>\n",
       "    </tr>\n",
       "    <tr>\n",
       "      <th>3595</th>\n",
       "      <td>крем для век</td>\n",
       "      <td>10</td>\n",
       "    </tr>\n",
       "    <tr>\n",
       "      <th>3735</th>\n",
       "      <td>крем спрей для волос</td>\n",
       "      <td>10</td>\n",
       "    </tr>\n",
       "    <tr>\n",
       "      <th>4528</th>\n",
       "      <td>крем для кожи вокруг глаз</td>\n",
       "      <td>10</td>\n",
       "    </tr>\n",
       "    <tr>\n",
       "      <th>4949</th>\n",
       "      <td>крем для тела</td>\n",
       "      <td>10</td>\n",
       "    </tr>\n",
       "    <tr>\n",
       "      <th>5440</th>\n",
       "      <td>тональный крем для лица</td>\n",
       "      <td>10</td>\n",
       "    </tr>\n",
       "    <tr>\n",
       "      <th>5824</th>\n",
       "      <td>крем для ног</td>\n",
       "      <td>10</td>\n",
       "    </tr>\n",
       "    <tr>\n",
       "      <th>6490</th>\n",
       "      <td>крем для лица увлажняющий</td>\n",
       "      <td>10</td>\n",
       "    </tr>\n",
       "  </tbody>\n",
       "</table>\n",
       "</div>"
      ],
      "text/plain": [
       "                             query  query_popularity\n",
       "538                  крем для лица                10\n",
       "1771                  крем для рук                10\n",
       "3166  крем для лица антивозрастной                10\n",
       "3595                  крем для век                10\n",
       "3735          крем спрей для волос                10\n",
       "4528     крем для кожи вокруг глаз                10\n",
       "4949                 крем для тела                10\n",
       "5440       тональный крем для лица                10\n",
       "5824                  крем для ног                10\n",
       "6490     крем для лица увлажняющий                10"
      ]
     },
     "execution_count": 44,
     "metadata": {},
     "output_type": "execute_result"
    }
   ],
   "source": [
    "# by full text\n",
    "result = autocompleter.predict(\"крем для\")\n",
    "result"
   ]
  },
  {
   "cell_type": "code",
   "execution_count": null,
   "id": "486720bc-e768-4939-8243-a51f0b91e87c",
   "metadata": {},
   "outputs": [],
   "source": []
  }
 ],
 "metadata": {
  "kernelspec": {
   "display_name": "Python 3 (ipykernel)",
   "language": "python",
   "name": "python3"
  },
  "language_info": {
   "codemirror_mode": {
    "name": "ipython",
    "version": 3
   },
   "file_extension": ".py",
   "mimetype": "text/x-python",
   "name": "python",
   "nbconvert_exporter": "python",
   "pygments_lexer": "ipython3",
   "version": "3.7.11"
  }
 },
 "nbformat": 4,
 "nbformat_minor": 5
}
