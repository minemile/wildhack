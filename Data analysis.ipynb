{
 "cells": [
  {
   "cell_type": "code",
   "execution_count": 1,
   "id": "b4e72c3d-9c2c-4fc6-8711-f5c1ee593747",
   "metadata": {},
   "outputs": [],
   "source": [
    "%load_ext autoreload\n",
    "%autoreload 2\n",
    "\n",
    "import pandas as pd\n",
    "import numpy as np\n",
    "import string\n",
    "import matplotlib.pyplot as plt\n",
    "from dataset_prepare import ToStrLower, DropDuplicates, FilterByQuantile\n",
    "from autocompleter import AutoCompleterBaseline, AutoCompleteBySuffix, AutoCompleteByInvertedIndex\n",
    "from inverted_index import InvertedIndex\n",
    "from tries import make_trie"
   ]
  },
  {
   "cell_type": "code",
   "execution_count": 2,
   "id": "0c6294db-662e-4d4c-b948-9682b4378ff0",
   "metadata": {},
   "outputs": [],
   "source": [
    "popular_queries = pd.read_csv(\"data/query_popularity.csv\")\n",
    "popular_queries['query'] = popular_queries['query'].astype(str).str.lower()"
   ]
  },
  {
   "cell_type": "code",
   "execution_count": 47,
   "id": "7ca08137-9d88-44b7-9edd-0e605a75fb67",
   "metadata": {},
   "outputs": [
    {
     "data": {
      "text/html": [
       "<div>\n",
       "<style scoped>\n",
       "    .dataframe tbody tr th:only-of-type {\n",
       "        vertical-align: middle;\n",
       "    }\n",
       "\n",
       "    .dataframe tbody tr th {\n",
       "        vertical-align: top;\n",
       "    }\n",
       "\n",
       "    .dataframe thead th {\n",
       "        text-align: right;\n",
       "    }\n",
       "</style>\n",
       "<table border=\"1\" class=\"dataframe\">\n",
       "  <thead>\n",
       "    <tr style=\"text-align: right;\">\n",
       "      <th></th>\n",
       "      <th>query</th>\n",
       "      <th>query_popularity</th>\n",
       "    </tr>\n",
       "  </thead>\n",
       "  <tbody>\n",
       "    <tr>\n",
       "      <th>268</th>\n",
       "      <td>ноутбук игровой</td>\n",
       "      <td>10</td>\n",
       "    </tr>\n",
       "    <tr>\n",
       "      <th>652</th>\n",
       "      <td>игровой ноутбук</td>\n",
       "      <td>10</td>\n",
       "    </tr>\n",
       "    <tr>\n",
       "      <th>694</th>\n",
       "      <td>игровой ноут</td>\n",
       "      <td>10</td>\n",
       "    </tr>\n",
       "    <tr>\n",
       "      <th>2526</th>\n",
       "      <td>компьютер игровой</td>\n",
       "      <td>10</td>\n",
       "    </tr>\n",
       "    <tr>\n",
       "      <th>5030</th>\n",
       "      <td>игровой компьютер</td>\n",
       "      <td>10</td>\n",
       "    </tr>\n",
       "    <tr>\n",
       "      <th>6583</th>\n",
       "      <td>игровой руль</td>\n",
       "      <td>10</td>\n",
       "    </tr>\n",
       "    <tr>\n",
       "      <th>7774</th>\n",
       "      <td>руль игровой</td>\n",
       "      <td>10</td>\n",
       "    </tr>\n",
       "    <tr>\n",
       "      <th>8203</th>\n",
       "      <td>игровой комплекс для кошек</td>\n",
       "      <td>10</td>\n",
       "    </tr>\n",
       "    <tr>\n",
       "      <th>11745</th>\n",
       "      <td>playmobil игровой набор</td>\n",
       "      <td>10</td>\n",
       "    </tr>\n",
       "    <tr>\n",
       "      <th>15001</th>\n",
       "      <td>игровой компьютерный стол</td>\n",
       "      <td>10</td>\n",
       "    </tr>\n",
       "    <tr>\n",
       "      <th>18979</th>\n",
       "      <td>детский игровой коврик</td>\n",
       "      <td>10</td>\n",
       "    </tr>\n",
       "    <tr>\n",
       "      <th>19965</th>\n",
       "      <td>детская кухня игровой набор</td>\n",
       "      <td>10</td>\n",
       "    </tr>\n",
       "    <tr>\n",
       "      <th>20170</th>\n",
       "      <td>стул компьютерный игровой</td>\n",
       "      <td>10</td>\n",
       "    </tr>\n",
       "    <tr>\n",
       "      <th>21961</th>\n",
       "      <td>коврик детский игровой</td>\n",
       "      <td>10</td>\n",
       "    </tr>\n",
       "    <tr>\n",
       "      <th>23432</th>\n",
       "      <td>игровой комплекс для кошки</td>\n",
       "      <td>10</td>\n",
       "    </tr>\n",
       "    <tr>\n",
       "      <th>25977</th>\n",
       "      <td>коврик развивающий игровой для новорожденного</td>\n",
       "      <td>10</td>\n",
       "    </tr>\n",
       "    <tr>\n",
       "      <th>30460</th>\n",
       "      <td>солдатики игровой набор</td>\n",
       "      <td>10</td>\n",
       "    </tr>\n",
       "    <tr>\n",
       "      <th>30519</th>\n",
       "      <td>игровой столик</td>\n",
       "      <td>10</td>\n",
       "    </tr>\n",
       "    <tr>\n",
       "      <th>32362</th>\n",
       "      <td>maccажный игровой ортодон</td>\n",
       "      <td>10</td>\n",
       "    </tr>\n",
       "    <tr>\n",
       "      <th>33981</th>\n",
       "      <td>игровой центр батут</td>\n",
       "      <td>9</td>\n",
       "    </tr>\n",
       "    <tr>\n",
       "      <th>37361</th>\n",
       "      <td>набор игровой королевская карета</td>\n",
       "      <td>9</td>\n",
       "    </tr>\n",
       "    <tr>\n",
       "      <th>38301</th>\n",
       "      <td>игровой набор кухня детский</td>\n",
       "      <td>9</td>\n",
       "    </tr>\n",
       "    <tr>\n",
       "      <th>41636</th>\n",
       "      <td>игровой набор для девочек</td>\n",
       "      <td>9</td>\n",
       "    </tr>\n",
       "    <tr>\n",
       "      <th>42005</th>\n",
       "      <td>игровой набор развивающий монтессори развивает...</td>\n",
       "      <td>9</td>\n",
       "    </tr>\n",
       "    <tr>\n",
       "      <th>45408</th>\n",
       "      <td>игровой набор раковина с посудой 15 предметов</td>\n",
       "      <td>9</td>\n",
       "    </tr>\n",
       "    <tr>\n",
       "      <th>50741</th>\n",
       "      <td>игровой коврик</td>\n",
       "      <td>9</td>\n",
       "    </tr>\n",
       "    <tr>\n",
       "      <th>50744</th>\n",
       "      <td>игровой набор chap mei</td>\n",
       "      <td>9</td>\n",
       "    </tr>\n",
       "    <tr>\n",
       "      <th>50892</th>\n",
       "      <td>картонный игровой домик раскраска</td>\n",
       "      <td>9</td>\n",
       "    </tr>\n",
       "    <tr>\n",
       "      <th>51439</th>\n",
       "      <td>игровой домик палатка</td>\n",
       "      <td>9</td>\n",
       "    </tr>\n",
       "    <tr>\n",
       "      <th>52021</th>\n",
       "      <td>коврик для мыши игровой</td>\n",
       "      <td>9</td>\n",
       "    </tr>\n",
       "    <tr>\n",
       "      <th>53669</th>\n",
       "      <td>игровой коврик для мыши</td>\n",
       "      <td>9</td>\n",
       "    </tr>\n",
       "    <tr>\n",
       "      <th>55668</th>\n",
       "      <td>развивающий игровой центр</td>\n",
       "      <td>9</td>\n",
       "    </tr>\n",
       "    <tr>\n",
       "      <th>57077</th>\n",
       "      <td>игровой парашют</td>\n",
       "      <td>9</td>\n",
       "    </tr>\n",
       "    <tr>\n",
       "      <th>59667</th>\n",
       "      <td>набор игровой enchantimals</td>\n",
       "      <td>9</td>\n",
       "    </tr>\n",
       "    <tr>\n",
       "      <th>61796</th>\n",
       "      <td>игровой набор салон красоты</td>\n",
       "      <td>9</td>\n",
       "    </tr>\n",
       "    <tr>\n",
       "      <th>62206</th>\n",
       "      <td>игровой набор бытовая техника</td>\n",
       "      <td>9</td>\n",
       "    </tr>\n",
       "    <tr>\n",
       "      <th>62596</th>\n",
       "      <td>массажный игровой коврик</td>\n",
       "      <td>9</td>\n",
       "    </tr>\n",
       "    <tr>\n",
       "      <th>64326</th>\n",
       "      <td>игровой набор для сада</td>\n",
       "      <td>9</td>\n",
       "    </tr>\n",
       "    <tr>\n",
       "      <th>67878</th>\n",
       "      <td>игровой центр intex</td>\n",
       "      <td>8</td>\n",
       "    </tr>\n",
       "    <tr>\n",
       "      <th>68290</th>\n",
       "      <td>игровой набор my little pony</td>\n",
       "      <td>8</td>\n",
       "    </tr>\n",
       "    <tr>\n",
       "      <th>69879</th>\n",
       "      <td>игровой коврик дорога</td>\n",
       "      <td>8</td>\n",
       "    </tr>\n",
       "    <tr>\n",
       "      <th>69906</th>\n",
       "      <td>игровой набор klein vileda</td>\n",
       "      <td>8</td>\n",
       "    </tr>\n",
       "    <tr>\n",
       "      <th>70485</th>\n",
       "      <td>игровой комплекс для котят</td>\n",
       "      <td>8</td>\n",
       "    </tr>\n",
       "    <tr>\n",
       "      <th>73151</th>\n",
       "      <td>дикие скричеры игровой набор</td>\n",
       "      <td>8</td>\n",
       "    </tr>\n",
       "    <tr>\n",
       "      <th>73758</th>\n",
       "      <td>игровой коврик для малышей</td>\n",
       "      <td>8</td>\n",
       "    </tr>\n",
       "    <tr>\n",
       "      <th>76465</th>\n",
       "      <td>микрофон компьютерный, игровой defender forte</td>\n",
       "      <td>8</td>\n",
       "    </tr>\n",
       "    <tr>\n",
       "      <th>77026</th>\n",
       "      <td>игровой набор уборка</td>\n",
       "      <td>8</td>\n",
       "    </tr>\n",
       "    <tr>\n",
       "      <th>77349</th>\n",
       "      <td>игровой центр для малыша</td>\n",
       "      <td>8</td>\n",
       "    </tr>\n",
       "    <tr>\n",
       "      <th>78253</th>\n",
       "      <td>игровой набор zuru rainbocorns сюрприз в яйце,...</td>\n",
       "      <td>8</td>\n",
       "    </tr>\n",
       "    <tr>\n",
       "      <th>79714</th>\n",
       "      <td>набор игровой плей-до мир мороженого play-doh ...</td>\n",
       "      <td>8</td>\n",
       "    </tr>\n",
       "  </tbody>\n",
       "</table>\n",
       "</div>"
      ],
      "text/plain": [
       "                                                   query  query_popularity\n",
       "268                                      ноутбук игровой                10\n",
       "652                                      игровой ноутбук                10\n",
       "694                                         игровой ноут                10\n",
       "2526                                   компьютер игровой                10\n",
       "5030                                   игровой компьютер                10\n",
       "6583                                        игровой руль                10\n",
       "7774                                        руль игровой                10\n",
       "8203                          игровой комплекс для кошек                10\n",
       "11745                            playmobil игровой набор                10\n",
       "15001                          игровой компьютерный стол                10\n",
       "18979                             детский игровой коврик                10\n",
       "19965                        детская кухня игровой набор                10\n",
       "20170                          стул компьютерный игровой                10\n",
       "21961                             коврик детский игровой                10\n",
       "23432                         игровой комплекс для кошки                10\n",
       "25977      коврик развивающий игровой для новорожденного                10\n",
       "30460                            солдатики игровой набор                10\n",
       "30519                                     игровой столик                10\n",
       "32362                          maccажный игровой ортодон                10\n",
       "33981                                игровой центр батут                 9\n",
       "37361                   набор игровой королевская карета                 9\n",
       "38301                        игровой набор кухня детский                 9\n",
       "41636                          игровой набор для девочек                 9\n",
       "42005  игровой набор развивающий монтессори развивает...                 9\n",
       "45408      игровой набор раковина с посудой 15 предметов                 9\n",
       "50741                                     игровой коврик                 9\n",
       "50744                             игровой набор chap mei                 9\n",
       "50892                  картонный игровой домик раскраска                 9\n",
       "51439                              игровой домик палатка                 9\n",
       "52021                            коврик для мыши игровой                 9\n",
       "53669                            игровой коврик для мыши                 9\n",
       "55668                          развивающий игровой центр                 9\n",
       "57077                                    игровой парашют                 9\n",
       "59667                         набор игровой enchantimals                 9\n",
       "61796                        игровой набор салон красоты                 9\n",
       "62206                      игровой набор бытовая техника                 9\n",
       "62596                           массажный игровой коврик                 9\n",
       "64326                             игровой набор для сада                 9\n",
       "67878                                игровой центр intex                 8\n",
       "68290                       игровой набор my little pony                 8\n",
       "69879                              игровой коврик дорога                 8\n",
       "69906                         игровой набор klein vileda                 8\n",
       "70485                         игровой комплекс для котят                 8\n",
       "73151                       дикие скричеры игровой набор                 8\n",
       "73758                         игровой коврик для малышей                 8\n",
       "76465      микрофон компьютерный, игровой defender forte                 8\n",
       "77026                               игровой набор уборка                 8\n",
       "77349                           игровой центр для малыша                 8\n",
       "78253  игровой набор zuru rainbocorns сюрприз в яйце,...                 8\n",
       "79714  набор игровой плей-до мир мороженого play-doh ...                 8"
      ]
     },
     "execution_count": 47,
     "metadata": {},
     "output_type": "execute_result"
    }
   ],
   "source": [
    "popular_queries[popular_queries['query'].str.contains(\"игровой\")][:50]"
   ]
  },
  {
   "cell_type": "code",
   "execution_count": 48,
   "id": "78963463-60af-4f26-826c-6806df6d262e",
   "metadata": {},
   "outputs": [
    {
     "data": {
      "text/plain": [
       "(336988, 2)"
      ]
     },
     "execution_count": 48,
     "metadata": {},
     "output_type": "execute_result"
    }
   ],
   "source": [
    "popular_queries.shape"
   ]
  },
  {
   "cell_type": "code",
   "execution_count": 43,
   "id": "44d54779-e02a-4537-91e2-99078c3d8601",
   "metadata": {},
   "outputs": [
    {
     "ename": "KeyError",
     "evalue": "'UQ'",
     "output_type": "error",
     "traceback": [
      "\u001b[0;31m---------------------------------------------------------------------------\u001b[0m",
      "\u001b[0;31mKeyError\u001b[0m                                  Traceback (most recent call last)",
      "\u001b[0;32m~/anaconda3/envs/wildhack/lib/python3.7/site-packages/pandas/core/indexes/base.py\u001b[0m in \u001b[0;36mget_loc\u001b[0;34m(self, key, method, tolerance)\u001b[0m\n\u001b[1;32m   3360\u001b[0m             \u001b[0;32mtry\u001b[0m\u001b[0;34m:\u001b[0m\u001b[0;34m\u001b[0m\u001b[0;34m\u001b[0m\u001b[0m\n\u001b[0;32m-> 3361\u001b[0;31m                 \u001b[0;32mreturn\u001b[0m \u001b[0mself\u001b[0m\u001b[0;34m.\u001b[0m\u001b[0m_engine\u001b[0m\u001b[0;34m.\u001b[0m\u001b[0mget_loc\u001b[0m\u001b[0;34m(\u001b[0m\u001b[0mcasted_key\u001b[0m\u001b[0;34m)\u001b[0m\u001b[0;34m\u001b[0m\u001b[0;34m\u001b[0m\u001b[0m\n\u001b[0m\u001b[1;32m   3362\u001b[0m             \u001b[0;32mexcept\u001b[0m \u001b[0mKeyError\u001b[0m \u001b[0;32mas\u001b[0m \u001b[0merr\u001b[0m\u001b[0;34m:\u001b[0m\u001b[0;34m\u001b[0m\u001b[0;34m\u001b[0m\u001b[0m\n",
      "\u001b[0;32m~/anaconda3/envs/wildhack/lib/python3.7/site-packages/pandas/_libs/index.pyx\u001b[0m in \u001b[0;36mpandas._libs.index.IndexEngine.get_loc\u001b[0;34m()\u001b[0m\n",
      "\u001b[0;32m~/anaconda3/envs/wildhack/lib/python3.7/site-packages/pandas/_libs/index.pyx\u001b[0m in \u001b[0;36mpandas._libs.index.IndexEngine.get_loc\u001b[0;34m()\u001b[0m\n",
      "\u001b[0;32mpandas/_libs/hashtable_class_helper.pxi\u001b[0m in \u001b[0;36mpandas._libs.hashtable.PyObjectHashTable.get_item\u001b[0;34m()\u001b[0m\n",
      "\u001b[0;32mpandas/_libs/hashtable_class_helper.pxi\u001b[0m in \u001b[0;36mpandas._libs.hashtable.PyObjectHashTable.get_item\u001b[0;34m()\u001b[0m\n",
      "\u001b[0;31mKeyError\u001b[0m: 'UQ'",
      "\nThe above exception was the direct cause of the following exception:\n",
      "\u001b[0;31mKeyError\u001b[0m                                  Traceback (most recent call last)",
      "\u001b[0;32m/var/folders/_b/wr14ty5d1q96p67h9t1csd8w0000gn/T/ipykernel_43638/2485617189.py\u001b[0m in \u001b[0;36m<module>\u001b[0;34m\u001b[0m\n\u001b[0;32m----> 1\u001b[0;31m \u001b[0mpopular_queries\u001b[0m\u001b[0;34m[\u001b[0m\u001b[0mpopular_queries\u001b[0m\u001b[0;34m[\u001b[0m\u001b[0;34m'UQ'\u001b[0m\u001b[0;34m]\u001b[0m\u001b[0;34m.\u001b[0m\u001b[0mstr\u001b[0m\u001b[0;34m.\u001b[0m\u001b[0mcontains\u001b[0m\u001b[0;34m(\u001b[0m\u001b[0;34m\"игровой\"\u001b[0m\u001b[0;34m)\u001b[0m\u001b[0;34m]\u001b[0m\u001b[0;34m\u001b[0m\u001b[0;34m\u001b[0m\u001b[0m\n\u001b[0m",
      "\u001b[0;32m~/anaconda3/envs/wildhack/lib/python3.7/site-packages/pandas/core/frame.py\u001b[0m in \u001b[0;36m__getitem__\u001b[0;34m(self, key)\u001b[0m\n\u001b[1;32m   3456\u001b[0m             \u001b[0;32mif\u001b[0m \u001b[0mself\u001b[0m\u001b[0;34m.\u001b[0m\u001b[0mcolumns\u001b[0m\u001b[0;34m.\u001b[0m\u001b[0mnlevels\u001b[0m \u001b[0;34m>\u001b[0m \u001b[0;36m1\u001b[0m\u001b[0;34m:\u001b[0m\u001b[0;34m\u001b[0m\u001b[0;34m\u001b[0m\u001b[0m\n\u001b[1;32m   3457\u001b[0m                 \u001b[0;32mreturn\u001b[0m \u001b[0mself\u001b[0m\u001b[0;34m.\u001b[0m\u001b[0m_getitem_multilevel\u001b[0m\u001b[0;34m(\u001b[0m\u001b[0mkey\u001b[0m\u001b[0;34m)\u001b[0m\u001b[0;34m\u001b[0m\u001b[0;34m\u001b[0m\u001b[0m\n\u001b[0;32m-> 3458\u001b[0;31m             \u001b[0mindexer\u001b[0m \u001b[0;34m=\u001b[0m \u001b[0mself\u001b[0m\u001b[0;34m.\u001b[0m\u001b[0mcolumns\u001b[0m\u001b[0;34m.\u001b[0m\u001b[0mget_loc\u001b[0m\u001b[0;34m(\u001b[0m\u001b[0mkey\u001b[0m\u001b[0;34m)\u001b[0m\u001b[0;34m\u001b[0m\u001b[0;34m\u001b[0m\u001b[0m\n\u001b[0m\u001b[1;32m   3459\u001b[0m             \u001b[0;32mif\u001b[0m \u001b[0mis_integer\u001b[0m\u001b[0;34m(\u001b[0m\u001b[0mindexer\u001b[0m\u001b[0;34m)\u001b[0m\u001b[0;34m:\u001b[0m\u001b[0;34m\u001b[0m\u001b[0;34m\u001b[0m\u001b[0m\n\u001b[1;32m   3460\u001b[0m                 \u001b[0mindexer\u001b[0m \u001b[0;34m=\u001b[0m \u001b[0;34m[\u001b[0m\u001b[0mindexer\u001b[0m\u001b[0;34m]\u001b[0m\u001b[0;34m\u001b[0m\u001b[0;34m\u001b[0m\u001b[0m\n",
      "\u001b[0;32m~/anaconda3/envs/wildhack/lib/python3.7/site-packages/pandas/core/indexes/base.py\u001b[0m in \u001b[0;36mget_loc\u001b[0;34m(self, key, method, tolerance)\u001b[0m\n\u001b[1;32m   3361\u001b[0m                 \u001b[0;32mreturn\u001b[0m \u001b[0mself\u001b[0m\u001b[0;34m.\u001b[0m\u001b[0m_engine\u001b[0m\u001b[0;34m.\u001b[0m\u001b[0mget_loc\u001b[0m\u001b[0;34m(\u001b[0m\u001b[0mcasted_key\u001b[0m\u001b[0;34m)\u001b[0m\u001b[0;34m\u001b[0m\u001b[0;34m\u001b[0m\u001b[0m\n\u001b[1;32m   3362\u001b[0m             \u001b[0;32mexcept\u001b[0m \u001b[0mKeyError\u001b[0m \u001b[0;32mas\u001b[0m \u001b[0merr\u001b[0m\u001b[0;34m:\u001b[0m\u001b[0;34m\u001b[0m\u001b[0;34m\u001b[0m\u001b[0m\n\u001b[0;32m-> 3363\u001b[0;31m                 \u001b[0;32mraise\u001b[0m \u001b[0mKeyError\u001b[0m\u001b[0;34m(\u001b[0m\u001b[0mkey\u001b[0m\u001b[0;34m)\u001b[0m \u001b[0;32mfrom\u001b[0m \u001b[0merr\u001b[0m\u001b[0;34m\u001b[0m\u001b[0;34m\u001b[0m\u001b[0m\n\u001b[0m\u001b[1;32m   3364\u001b[0m \u001b[0;34m\u001b[0m\u001b[0m\n\u001b[1;32m   3365\u001b[0m         \u001b[0;32mif\u001b[0m \u001b[0mis_scalar\u001b[0m\u001b[0;34m(\u001b[0m\u001b[0mkey\u001b[0m\u001b[0;34m)\u001b[0m \u001b[0;32mand\u001b[0m \u001b[0misna\u001b[0m\u001b[0;34m(\u001b[0m\u001b[0mkey\u001b[0m\u001b[0;34m)\u001b[0m \u001b[0;32mand\u001b[0m \u001b[0;32mnot\u001b[0m \u001b[0mself\u001b[0m\u001b[0;34m.\u001b[0m\u001b[0mhasnans\u001b[0m\u001b[0;34m:\u001b[0m\u001b[0;34m\u001b[0m\u001b[0;34m\u001b[0m\u001b[0m\n",
      "\u001b[0;31mKeyError\u001b[0m: 'UQ'"
     ]
    }
   ],
   "source": [
    "popular_queries[popular_queries['UQ'].str.contains(\"игровой\")]"
   ]
  },
  {
   "cell_type": "code",
   "execution_count": 208,
   "id": "996c3ca6-bf5f-4761-9e82-01267a574613",
   "metadata": {},
   "outputs": [],
   "source": [
    "columns = ['wbuser_id', 'UQ', 'cnt', 'locale', 'weekday', 'time']\n",
    "search_history = pd.read_csv(\"data/search_subset.csv\")[columns]"
   ]
  },
  {
   "cell_type": "markdown",
   "id": "88ab08d8-afac-4980-8690-721a30901ab3",
   "metadata": {},
   "source": [
    "# Filter data"
   ]
  },
  {
   "cell_type": "code",
   "execution_count": 5,
   "id": "644297ad-d01c-42cb-b42f-0839d468b71d",
   "metadata": {},
   "outputs": [],
   "source": [
    "CNT_UPPER_QUANTILE = 0.9"
   ]
  },
  {
   "cell_type": "code",
   "execution_count": 6,
   "id": "91f06ea4-6400-4d4e-a2bb-b3dc1a3b09ae",
   "metadata": {},
   "outputs": [],
   "source": [
    "# to lower UQ\n",
    "to_str_lower_filter = ToStrLower(column=\"UQ\")\n",
    "df = to_str_lower_filter.apply(search_history)"
   ]
  },
  {
   "cell_type": "code",
   "execution_count": 7,
   "id": "9c87dc3e-3493-4130-ba02-2ae9425bae8b",
   "metadata": {},
   "outputs": [
    {
     "name": "stdout",
     "output_type": "stream",
     "text": [
      "DropDuplicates: dataset size 499999 -> 450085\n"
     ]
    }
   ],
   "source": [
    "# filter out duplicates by wbuser_id \n",
    "subset_drop = [\"wbuser_id\", \"UQ\"]\n",
    "drop_duplicates_filter = DropDuplicates(subset_drop)\n",
    "df = drop_duplicates_filter.apply(df)"
   ]
  },
  {
   "cell_type": "code",
   "execution_count": 8,
   "id": "0fd72189-4d84-4256-8fdc-de0f2f339d9c",
   "metadata": {},
   "outputs": [
    {
     "name": "stdout",
     "output_type": "stream",
     "text": [
      "Lower quantile: 0. Upper quantile: 33128.79999999999\n",
      "FilterByQuantile: dataset size 450085 -> 427580\n"
     ]
    }
   ],
   "source": [
    "UPPER_QUANTILE = 0.95\n",
    "LOWER_QUANTILE = 0\n",
    "quantile_filter = FilterByQuantile('cnt', UPPER_QUANTILE)\n",
    "df = quantile_filter.apply(df)"
   ]
  },
  {
   "cell_type": "markdown",
   "id": "3b25ac99-c40b-4e37-b047-9705a28cf4c7",
   "metadata": {},
   "source": [
    "### Autocompleters"
   ]
  },
  {
   "cell_type": "markdown",
   "id": "fa9e7f82-39f9-4285-83ce-d6bd6ce46937",
   "metadata": {},
   "source": [
    "#### Baseline"
   ]
  },
  {
   "cell_type": "code",
   "execution_count": 70,
   "id": "f9127114-9774-42f6-b9d1-eebe24e189b9",
   "metadata": {},
   "outputs": [
    {
     "data": {
      "text/html": [
       "<div>\n",
       "<style scoped>\n",
       "    .dataframe tbody tr th:only-of-type {\n",
       "        vertical-align: middle;\n",
       "    }\n",
       "\n",
       "    .dataframe tbody tr th {\n",
       "        vertical-align: top;\n",
       "    }\n",
       "\n",
       "    .dataframe thead th {\n",
       "        text-align: right;\n",
       "    }\n",
       "</style>\n",
       "<table border=\"1\" class=\"dataframe\">\n",
       "  <thead>\n",
       "    <tr style=\"text-align: right;\">\n",
       "      <th></th>\n",
       "      <th>query</th>\n",
       "      <th>query_popularity</th>\n",
       "    </tr>\n",
       "  </thead>\n",
       "  <tbody>\n",
       "    <tr>\n",
       "      <th>652</th>\n",
       "      <td>игровой ноутбук</td>\n",
       "      <td>10</td>\n",
       "    </tr>\n",
       "    <tr>\n",
       "      <th>694</th>\n",
       "      <td>игровой ноут</td>\n",
       "      <td>10</td>\n",
       "    </tr>\n",
       "    <tr>\n",
       "      <th>5030</th>\n",
       "      <td>игровой компьютер</td>\n",
       "      <td>10</td>\n",
       "    </tr>\n",
       "    <tr>\n",
       "      <th>6583</th>\n",
       "      <td>игровой руль</td>\n",
       "      <td>10</td>\n",
       "    </tr>\n",
       "    <tr>\n",
       "      <th>8203</th>\n",
       "      <td>игровой комплекс для кошек</td>\n",
       "      <td>10</td>\n",
       "    </tr>\n",
       "    <tr>\n",
       "      <th>15001</th>\n",
       "      <td>игровой компьютерный стол</td>\n",
       "      <td>10</td>\n",
       "    </tr>\n",
       "    <tr>\n",
       "      <th>23432</th>\n",
       "      <td>игровой комплекс для кошки</td>\n",
       "      <td>10</td>\n",
       "    </tr>\n",
       "    <tr>\n",
       "      <th>30519</th>\n",
       "      <td>игровой столик</td>\n",
       "      <td>10</td>\n",
       "    </tr>\n",
       "    <tr>\n",
       "      <th>33981</th>\n",
       "      <td>игровой центр батут</td>\n",
       "      <td>9</td>\n",
       "    </tr>\n",
       "    <tr>\n",
       "      <th>38301</th>\n",
       "      <td>игровой набор кухня детский</td>\n",
       "      <td>9</td>\n",
       "    </tr>\n",
       "  </tbody>\n",
       "</table>\n",
       "</div>"
      ],
      "text/plain": [
       "                             query  query_popularity\n",
       "652                игровой ноутбук                10\n",
       "694                   игровой ноут                10\n",
       "5030             игровой компьютер                10\n",
       "6583                  игровой руль                10\n",
       "8203    игровой комплекс для кошек                10\n",
       "15001    игровой компьютерный стол                10\n",
       "23432   игровой комплекс для кошки                10\n",
       "30519               игровой столик                10\n",
       "33981          игровой центр батут                 9\n",
       "38301  игровой набор кухня детский                 9"
      ]
     },
     "execution_count": 70,
     "metadata": {},
     "output_type": "execute_result"
    }
   ],
   "source": [
    "# baseline\n",
    "autocompleter_baseline = AutoCompleterBaseline(query_database=popular_queries, max_n=10)\n",
    "autocompleter_baseline.predict(\"игровой\")"
   ]
  },
  {
   "cell_type": "code",
   "execution_count": 73,
   "id": "0add9567-96e1-47de-a3cf-73b94b57e21a",
   "metadata": {},
   "outputs": [
    {
     "name": "stdout",
     "output_type": "stream",
     "text": [
      "Found for word: игровой 169 instances\n",
      "Found for word: ноут 411 instances\n"
     ]
    },
    {
     "data": {
      "text/html": [
       "<div>\n",
       "<style scoped>\n",
       "    .dataframe tbody tr th:only-of-type {\n",
       "        vertical-align: middle;\n",
       "    }\n",
       "\n",
       "    .dataframe tbody tr th {\n",
       "        vertical-align: top;\n",
       "    }\n",
       "\n",
       "    .dataframe thead th {\n",
       "        text-align: right;\n",
       "    }\n",
       "</style>\n",
       "<table border=\"1\" class=\"dataframe\">\n",
       "  <thead>\n",
       "    <tr style=\"text-align: right;\">\n",
       "      <th></th>\n",
       "      <th>query</th>\n",
       "      <th>query_popularity</th>\n",
       "    </tr>\n",
       "  </thead>\n",
       "  <tbody>\n",
       "    <tr>\n",
       "      <th>268</th>\n",
       "      <td>ноутбук игровой</td>\n",
       "      <td>10</td>\n",
       "    </tr>\n",
       "    <tr>\n",
       "      <th>652</th>\n",
       "      <td>игровой ноутбук</td>\n",
       "      <td>10</td>\n",
       "    </tr>\n",
       "    <tr>\n",
       "      <th>694</th>\n",
       "      <td>игровой ноут</td>\n",
       "      <td>10</td>\n",
       "    </tr>\n",
       "  </tbody>\n",
       "</table>\n",
       "</div>"
      ],
      "text/plain": [
       "               query  query_popularity\n",
       "268  ноутбук игровой                10\n",
       "652  игровой ноутбук                10\n",
       "694     игровой ноут                10"
      ]
     },
     "execution_count": 73,
     "metadata": {},
     "output_type": "execute_result"
    }
   ],
   "source": [
    "autocompleter_baseline.predict(\"игровой ноут\")"
   ]
  },
  {
   "cell_type": "markdown",
   "id": "9131c528-ed32-4bee-bca5-99f6605c4511",
   "metadata": {},
   "source": [
    "#### Tries"
   ]
  },
  {
   "cell_type": "code",
   "execution_count": 9,
   "id": "c2e559fc-4b85-44fc-a775-93cfb95ca7ed",
   "metadata": {},
   "outputs": [
    {
     "name": "stdout",
     "output_type": "stream",
     "text": [
      "Making database for queries... It length: 336988\n"
     ]
    }
   ],
   "source": [
    "autocompleter_tries = AutoCompleteBySuffix()\n",
    "autocompleter_tries.make_trie(popular_queries)"
   ]
  },
  {
   "cell_type": "code",
   "execution_count": 10,
   "id": "964cb9e7-0d41-41cb-8b67-296911251fa0",
   "metadata": {},
   "outputs": [
    {
     "data": {
      "text/plain": [
       "[('игровой ноут', 1, 10),\n",
       " ('игровой ноутбук', 1, 10),\n",
       " ('игровой набор', 2, 9),\n",
       " ('игровой набор кухня детский', 1, 9),\n",
       " ('игровой набор для девочек', 1, 9),\n",
       " ('игровой набор для сада', 1, 9),\n",
       " ('игровой набор для мальчиков 7 лет', 1, 5),\n",
       " ('игровой набор доктор', 1, 7),\n",
       " ('игровой набор доктора с халатом', 1, 7),\n",
       " ('игровой набор доктора для девочек', 1, 5)]"
      ]
     },
     "execution_count": 10,
     "metadata": {},
     "output_type": "execute_result"
    }
   ],
   "source": [
    "autocompleter_tries.query(\"игровой\")[:10]"
   ]
  },
  {
   "cell_type": "code",
   "execution_count": 15,
   "id": "3e3b49e9-0fcf-4d81-9932-ab327683e997",
   "metadata": {
    "tags": []
   },
   "outputs": [
    {
     "data": {
      "text/plain": [
       "[('игровой ноут', 1, 10),\n",
       " ('игровой ноутбук', 1, 10),\n",
       " ('игровой компьютер', 1, 10),\n",
       " ('игровой компьютерный стол', 1, 10),\n",
       " ('игровой комплекс для кошек', 1, 10),\n",
       " ('игровой комплекс для кошки', 1, 10),\n",
       " ('игровой руль', 1, 10),\n",
       " ('игровой столик', 1, 10),\n",
       " ('игровой набор', 2, 9),\n",
       " ('игровой набор кухня детский', 1, 9)]"
      ]
     },
     "execution_count": 15,
     "metadata": {},
     "output_type": "execute_result"
    }
   ],
   "source": [
    "sorted(autocompleter_tries.query(\"игровой\"), key=lambda x: x[2], reverse=True)[:10]"
   ]
  },
  {
   "cell_type": "markdown",
   "id": "c7d7ec16-0c46-458b-bd67-ae369940931b",
   "metadata": {},
   "source": [
    "### Tries and inverted index"
   ]
  },
  {
   "cell_type": "code",
   "execution_count": 3,
   "id": "a916ea0d-a483-4ad9-8286-b72d08c55665",
   "metadata": {},
   "outputs": [],
   "source": [
    "# inverted index\n",
    "\n",
    "query_popularity_corpus = zip(popular_queries['query'], popular_queries['query_popularity'])\n",
    "inverted_index = InvertedIndex()\n",
    "index = inverted_index.process_corpus(query_popularity_corpus)"
   ]
  },
  {
   "cell_type": "code",
   "execution_count": 4,
   "id": "772a2ace-6f8b-4305-9a99-78b9be25c786",
   "metadata": {},
   "outputs": [
    {
     "name": "stdout",
     "output_type": "stream",
     "text": [
      "Making database for queries... It length: 336988\n"
     ]
    }
   ],
   "source": [
    "# tries \n",
    "trie = make_trie(popular_queries)"
   ]
  },
  {
   "cell_type": "code",
   "execution_count": 36,
   "id": "aedbe298-7565-4384-84ae-501920206b60",
   "metadata": {},
   "outputs": [],
   "source": [
    "autocomplete_by_inverted_index = AutoCompleteByInvertedIndex(index, trie, first_prefix=5, max_candidates=50)"
   ]
  },
  {
   "cell_type": "code",
   "execution_count": 40,
   "id": "c67a0e01-801f-457a-b873-9b8cfc1f2dc1",
   "metadata": {},
   "outputs": [],
   "source": [
    "# игра на -> игра настольная\n",
    "query = \"ноутбук\"\n",
    "result = autocomplete_by_inverted_index.query(query, max_n=10)"
   ]
  },
  {
   "cell_type": "code",
   "execution_count": 42,
   "id": "a0328085-a1df-4448-b0df-3ad192019708",
   "metadata": {},
   "outputs": [
    {
     "data": {
      "text/plain": [
       "[Query indx: 0. Words: ноутбук. Score: 10,\n",
       " Query indx: 3120. Words: ноутбук 17 ca2033ur. Score: 10,\n",
       " Query indx: 3154. Words: ноутбук 1650. Score: 10,\n",
       " Query indx: 3160. Words: ноутбук apple. Score: 10,\n",
       " Query indx: 2151. Words: ноутбук. Score: 10,\n",
       " Query indx: 20511. Words: сумка для ноутбука 13.3. Score: 10,\n",
       " Query indx: 2160. Words: acer / ноутбук acer extensa ex215-52-54ne/i5-1035g1/8gb/512gb ssd/15.6\\x22 fhd/uma/noos. Score: 10,\n",
       " Query indx: 30835. Words: sun voyage ноутбук. Score: 10,\n",
       " Query indx: 30840. Words: рюкзак мужской для ноутбука. Score: 10,\n",
       " Query indx: 5278. Words: ноутбук леново. Score: 10]"
      ]
     },
     "execution_count": 42,
     "metadata": {},
     "output_type": "execute_result"
    }
   ],
   "source": [
    "result"
   ]
  },
  {
   "cell_type": "code",
   "execution_count": 41,
   "id": "f74a55a6-1946-46cf-8ed2-0e95aa71d50c",
   "metadata": {},
   "outputs": [
    {
     "data": {
      "text/plain": [
       "[('ноутбука', 218, 0),\n",
       " ('ноут', 96, 0),\n",
       " ('ноутбук', 75, 0),\n",
       " ('ноутбуков', 4, 0),\n",
       " ('ноутбуки', 3, 0),\n",
       " ('ноутбука,', 2, 0),\n",
       " ('ноутбуку', 2, 0),\n",
       " ('ноута', 2, 0),\n",
       " ('ноу', 1, 0),\n",
       " ('ноутбукаи', 1, 0),\n",
       " ('ноутбуком', 1, 0),\n",
       " ('ноутбук-алфавит', 1, 0),\n",
       " ('ноутбку', 1, 0),\n",
       " ('ноутбкука', 1, 0),\n",
       " ('ноутука', 1, 0),\n",
       " ('ноут9', 1, 0),\n",
       " ('ноут5', 1, 0),\n",
       " ('ноубук', 1, 0),\n",
       " ('ноуи', 1, 0)]"
      ]
     },
     "execution_count": 41,
     "metadata": {},
     "output_type": "execute_result"
    }
   ],
   "source": [
    "autocomplete_by_inverted_index.get_candidates(\"ноу\")"
   ]
  },
  {
   "cell_type": "code",
   "execution_count": null,
   "id": "4f9339ea-c326-4ca3-a533-39ac1dd638e3",
   "metadata": {},
   "outputs": [],
   "source": []
  },
  {
   "cell_type": "code",
   "execution_count": null,
   "id": "dc9d4dfb-c8fa-4668-a6e9-74c0b532d155",
   "metadata": {},
   "outputs": [],
   "source": []
  }
 ],
 "metadata": {
  "kernelspec": {
   "display_name": "Python 3 (ipykernel)",
   "language": "python",
   "name": "python3"
  },
  "language_info": {
   "codemirror_mode": {
    "name": "ipython",
    "version": 3
   },
   "file_extension": ".py",
   "mimetype": "text/x-python",
   "name": "python",
   "nbconvert_exporter": "python",
   "pygments_lexer": "ipython3",
   "version": "3.7.11"
  }
 },
 "nbformat": 4,
 "nbformat_minor": 5
}
